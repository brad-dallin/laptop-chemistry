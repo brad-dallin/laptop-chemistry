{
 "cells": [
  {
   "cell_type": "code",
   "execution_count": 1,
   "id": "74acfe28",
   "metadata": {},
   "outputs": [
    {
     "name": "stdout",
     "output_type": "stream",
     "text": [
      "RDKit Version: 2025.03.6\n"
     ]
    }
   ],
   "source": [
    "# Import modules\n",
    "import rdkit\n",
    "from rdkit.Chem import Descriptors\n",
    "from rdkit.Chem.Lipinski import rdMolDescriptors\n",
    "from IPython.display import SVG\n",
    "from notebook_utils import draw_molecule\n",
    "\n",
    "# Suppress RDKit Output\n",
    "# rdkit.RDLogger.DisableLog('rdApp.*')\n",
    "\n",
    "# Print versions\n",
    "print(f\"RDKit Version: {rdkit.__version__}\")"
   ]
  },
  {
   "cell_type": "code",
   "execution_count": 2,
   "id": "ad23ccf2",
   "metadata": {},
   "outputs": [
    {
     "data": {
      "image/svg+xml": [
       "<svg xmlns=\"http://www.w3.org/2000/svg\" xmlns:rdkit=\"http://www.rdkit.org/xml\" xmlns:xlink=\"http://www.w3.org/1999/xlink\" version=\"1.1\" baseProfile=\"full\" xml:space=\"preserve\" width=\"75px\" height=\"76px\" viewBox=\"0 0 75 76\">\n",
       "<!-- END OF HEADER -->\n",
       "<rect style=\"opacity:1.0;fill:#FFFFFF;stroke:none\" width=\"75.0\" height=\"76.0\" x=\"0.0\" y=\"0.0\"> </rect>\n",
       "<path class=\"bond-0 atom-0 atom-1\" d=\"M 3.8,51.6 L 29.0,37.0\" style=\"fill:none;fill-rule:evenodd;stroke:#000000;stroke-width:2.0px;stroke-linecap:butt;stroke-linejoin:miter;stroke-opacity:1\"/>\n",
       "<path class=\"bond-1 atom-1 atom-2\" d=\"M 29.0,37.0 L 39.6,43.1\" style=\"fill:none;fill-rule:evenodd;stroke:#000000;stroke-width:2.0px;stroke-linecap:butt;stroke-linejoin:miter;stroke-opacity:1\"/>\n",
       "<path class=\"bond-1 atom-1 atom-2\" d=\"M 39.6,43.1 L 50.2,49.2\" style=\"fill:none;fill-rule:evenodd;stroke:#0000FF;stroke-width:2.0px;stroke-linecap:butt;stroke-linejoin:miter;stroke-opacity:1\"/>\n",
       "<path class=\"bond-2 atom-1 atom-3\" d=\"M 31.2,38.3 L 31.2,25.7\" style=\"fill:none;fill-rule:evenodd;stroke:#000000;stroke-width:2.0px;stroke-linecap:butt;stroke-linejoin:miter;stroke-opacity:1\"/>\n",
       "<path class=\"bond-2 atom-1 atom-3\" d=\"M 31.2,25.7 L 31.2,13.2\" style=\"fill:none;fill-rule:evenodd;stroke:#CCCC00;stroke-width:2.0px;stroke-linecap:butt;stroke-linejoin:miter;stroke-opacity:1\"/>\n",
       "<path class=\"bond-2 atom-1 atom-3\" d=\"M 26.9,38.3 L 26.9,25.7\" style=\"fill:none;fill-rule:evenodd;stroke:#000000;stroke-width:2.0px;stroke-linecap:butt;stroke-linejoin:miter;stroke-opacity:1\"/>\n",
       "<path class=\"bond-2 atom-1 atom-3\" d=\"M 26.9,25.7 L 26.9,13.2\" style=\"fill:none;fill-rule:evenodd;stroke:#CCCC00;stroke-width:2.0px;stroke-linecap:butt;stroke-linejoin:miter;stroke-opacity:1\"/>\n",
       "<path d=\"M 27.8,37.7 L 29.0,37.0 L 29.6,37.3\" style=\"fill:none;stroke:#000000;stroke-width:2.0px;stroke-linecap:butt;stroke-linejoin:miter;stroke-miterlimit:10;stroke-opacity:1;\"/>\n",
       "<path class=\"atom-2\" d=\"M 52.4 47.4 L 55.1 51.8 Q 55.4 52.2, 55.8 53.0 Q 56.3 53.8, 56.3 53.8 L 56.3 47.4 L 57.4 47.4 L 57.4 55.7 L 56.2 55.7 L 53.3 50.9 Q 53.0 50.3, 52.6 49.7 Q 52.3 49.1, 52.2 48.9 L 52.2 55.7 L 51.1 55.7 L 51.1 47.4 L 52.4 47.4 \" fill=\"#0000FF\"/>\n",
       "<path class=\"atom-2\" d=\"M 58.9 47.4 L 60.1 47.4 L 60.1 50.9 L 64.3 50.9 L 64.3 47.4 L 65.4 47.4 L 65.4 55.7 L 64.3 55.7 L 64.3 51.9 L 60.1 51.9 L 60.1 55.7 L 58.9 55.7 L 58.9 47.4 \" fill=\"#0000FF\"/>\n",
       "<path class=\"atom-2\" d=\"M 67.0 55.4 Q 67.2 54.9, 67.7 54.6 Q 68.2 54.3, 68.8 54.3 Q 69.6 54.3, 70.1 54.7 Q 70.6 55.2, 70.6 56.0 Q 70.6 56.8, 70.0 57.5 Q 69.4 58.3, 68.1 59.2 L 70.7 59.2 L 70.7 59.8 L 67.0 59.8 L 67.0 59.3 Q 68.0 58.6, 68.6 58.0 Q 69.2 57.5, 69.5 57.0 Q 69.8 56.5, 69.8 56.0 Q 69.8 55.5, 69.5 55.2 Q 69.3 54.9, 68.8 54.9 Q 68.4 54.9, 68.1 55.1 Q 67.8 55.3, 67.6 55.7 L 67.0 55.4 \" fill=\"#0000FF\"/>\n",
       "<path class=\"atom-3\" d=\"M 26.7 10.7 Q 26.8 10.8, 27.2 10.9 Q 27.6 11.1, 28.0 11.2 Q 28.4 11.3, 28.8 11.3 Q 29.6 11.3, 30.1 10.9 Q 30.5 10.5, 30.5 9.9 Q 30.5 9.4, 30.3 9.1 Q 30.1 8.9, 29.7 8.7 Q 29.4 8.6, 28.8 8.4 Q 28.1 8.2, 27.6 8.0 Q 27.2 7.7, 26.9 7.3 Q 26.6 6.9, 26.6 6.1 Q 26.6 5.1, 27.3 4.4 Q 28.0 3.8, 29.4 3.8 Q 30.3 3.8, 31.4 4.3 L 31.2 5.2 Q 30.2 4.7, 29.4 4.7 Q 28.6 4.7, 28.2 5.1 Q 27.7 5.4, 27.7 6.0 Q 27.7 6.4, 28.0 6.7 Q 28.2 7.0, 28.5 7.1 Q 28.9 7.3, 29.4 7.4 Q 30.2 7.7, 30.6 7.9 Q 31.0 8.1, 31.4 8.6 Q 31.7 9.1, 31.7 9.9 Q 31.7 11.0, 30.9 11.6 Q 30.2 12.2, 28.9 12.2 Q 28.2 12.2, 27.6 12.1 Q 27.1 11.9, 26.4 11.7 L 26.7 10.7 \" fill=\"#CCCC00\"/>\n",
       "<path class=\"legend\" d=\"M 25.0 62.6 L 21.5 62.6 L 21.5 61.3 L 29.8 61.3 L 29.8 62.6 L 26.5 62.6 L 26.5 72.7 L 25.0 72.7 L 25.0 62.6 \" fill=\"#000000\"/>\n",
       "<path class=\"legend\" d=\"M 30.5 68.5 Q 30.5 66.5, 31.5 65.4 Q 32.5 64.3, 34.4 64.3 Q 36.2 64.3, 37.0 65.4 Q 37.8 66.4, 37.8 68.5 L 37.8 68.7 L 32.1 68.7 Q 32.1 70.1, 32.7 70.9 Q 33.3 71.6, 34.5 71.6 Q 35.1 71.6, 35.7 71.5 Q 36.3 71.3, 37.0 71.0 L 37.5 72.0 Q 36.7 72.4, 35.9 72.6 Q 35.2 72.8, 34.4 72.8 Q 32.6 72.8, 31.5 71.7 Q 30.5 70.5, 30.5 68.5 M 34.4 65.5 Q 33.4 65.5, 32.9 66.0 Q 32.3 66.6, 32.1 67.6 L 36.2 67.6 Q 36.1 66.5, 35.7 66.0 Q 35.2 65.5, 34.4 65.5 \" fill=\"#000000\"/>\n",
       "<path class=\"legend\" d=\"M 39.5 71.0 Q 40.3 71.3, 40.8 71.4 Q 41.3 71.6, 41.9 71.6 Q 42.6 71.6, 43.0 71.2 Q 43.4 70.9, 43.4 70.4 Q 43.4 70.0, 43.2 69.8 Q 43.0 69.5, 42.7 69.4 Q 42.4 69.3, 41.7 69.1 Q 41.6 69.0, 40.9 68.8 Q 40.1 68.5, 39.7 68.0 Q 39.4 67.4, 39.4 66.6 Q 39.4 65.6, 40.1 65.0 Q 40.9 64.3, 42.4 64.3 Q 43.0 64.3, 43.5 64.4 Q 44.1 64.6, 44.7 64.8 L 44.3 66.0 Q 43.8 65.8, 43.3 65.7 Q 42.9 65.5, 42.4 65.5 Q 41.6 65.5, 41.2 65.8 Q 40.9 66.1, 40.9 66.6 Q 40.9 67.1, 41.2 67.3 Q 41.5 67.5, 42.1 67.7 Q 42.3 67.8, 42.5 67.8 L 42.8 68.0 Q 43.5 68.2, 43.9 68.4 Q 44.3 68.7, 44.6 69.1 Q 44.9 69.6, 44.9 70.3 Q 44.9 71.5, 44.1 72.2 Q 43.2 72.8, 41.9 72.8 Q 41.1 72.8, 40.4 72.6 Q 39.8 72.5, 39.1 72.2 L 39.5 71.0 \" fill=\"#000000\"/>\n",
       "<path class=\"legend\" d=\"M 46.4 65.6 L 46.4 64.4 L 48.0 64.4 L 48.3 62.0 L 49.4 62.0 L 49.4 64.4 L 51.9 64.4 L 51.9 65.6 L 49.4 65.6 L 49.4 70.1 Q 49.4 71.6, 50.6 71.6 Q 51.1 71.6, 51.8 71.3 L 52.0 72.4 Q 51.1 72.8, 50.3 72.8 Q 49.2 72.8, 48.5 72.1 Q 47.9 71.5, 47.9 70.2 L 47.9 65.6 L 46.4 65.6 \" fill=\"#000000\"/>\n",
       "</svg>"
      ],
      "text/plain": [
       "<IPython.core.display.SVG object>"
      ]
     },
     "execution_count": 2,
     "metadata": {},
     "output_type": "execute_result"
    }
   ],
   "source": [
    "# smiles = \"C1CC2=C(C=CC(=C2)O)[C@H]([C@H]1C3=CC=CC=C3)C4=CC=C(C=C4)N5CCC(CC5)CN6CCN(CC6)C7=CC8=C(C=C7)C(=O)N(C8)[C@H]9CCC(=O)NC9=O\"\n",
    "# name = \"Vepdegestrant\"\n",
    "# smiles = \"CC1(CCC(=C(C1)c2ccc(cc2)Cl)CN3CCN(CC3)c4ccc(c(c4)Oc5cc6cc[nH]c6nc5)C(=O)NS(=O)(=O)c7ccc(c(c7)[N+](=O)[O-])NCC8CCOCC8)C\"\n",
    "# name = \"Venetoclax\"\n",
    "# smiles = \"CC=NO\"\n",
    "smiles = \"CC(N)=S\"\n",
    "name = \"Test\"\n",
    "mol = rdkit.Chem.MolFromSmiles(smiles)\n",
    "# Highlight nitrogen atoms in blue\n",
    "img = draw_molecule(mol,\n",
    "    legend = name,\n",
    ")\n",
    "SVG(img)"
   ]
  },
  {
   "cell_type": "code",
   "execution_count": 3,
   "id": "674db112",
   "metadata": {},
   "outputs": [
    {
     "data": {
      "image/svg+xml": [
       "<svg xmlns=\"http://www.w3.org/2000/svg\" xmlns:rdkit=\"http://www.rdkit.org/xml\" xmlns:xlink=\"http://www.w3.org/1999/xlink\" version=\"1.1\" baseProfile=\"full\" xml:space=\"preserve\" width=\"163px\" height=\"84px\" viewBox=\"0 0 163 84\">\n",
       "<!-- END OF HEADER -->\n",
       "<rect style=\"opacity:1.0;fill:#FFFFFF;stroke:none\" width=\"163.0\" height=\"84.0\" x=\"0.0\" y=\"0.0\"> </rect>\n",
       "<ellipse cx=\"103.9\" cy=\"54.4\" rx=\"13.9\" ry=\"8.8\" class=\"atom-2\" style=\"fill:#FF6666;fill-rule:evenodd;stroke:#FF6666;stroke-width:1.0px;stroke-linecap:butt;stroke-linejoin:miter;stroke-opacity:1\"/>\n",
       "<path class=\"bond-0 atom-0 atom-1\" d=\"M 46.5,52.3 L 71.8,37.7\" style=\"fill:none;fill-rule:evenodd;stroke:#000000;stroke-width:2.0px;stroke-linecap:butt;stroke-linejoin:miter;stroke-opacity:1\"/>\n",
       "<path class=\"bond-1 atom-1 atom-2\" d=\"M 71.8,37.7 L 93.1,49.9\" style=\"fill:none;fill-rule:evenodd;stroke:#000000;stroke-width:2.0px;stroke-linecap:butt;stroke-linejoin:miter;stroke-opacity:1\"/>\n",
       "<path class=\"bond-2 atom-1 atom-3\" d=\"M 74.0,38.9 L 74.0,26.3\" style=\"fill:none;fill-rule:evenodd;stroke:#000000;stroke-width:2.0px;stroke-linecap:butt;stroke-linejoin:miter;stroke-opacity:1\"/>\n",
       "<path class=\"bond-2 atom-1 atom-3\" d=\"M 74.0,26.3 L 74.0,13.7\" style=\"fill:none;fill-rule:evenodd;stroke:#CCCC00;stroke-width:2.0px;stroke-linecap:butt;stroke-linejoin:miter;stroke-opacity:1\"/>\n",
       "<path class=\"bond-2 atom-1 atom-3\" d=\"M 69.6,38.9 L 69.6,26.3\" style=\"fill:none;fill-rule:evenodd;stroke:#000000;stroke-width:2.0px;stroke-linecap:butt;stroke-linejoin:miter;stroke-opacity:1\"/>\n",
       "<path class=\"bond-2 atom-1 atom-3\" d=\"M 69.6,26.3 L 69.6,13.7\" style=\"fill:none;fill-rule:evenodd;stroke:#CCCC00;stroke-width:2.0px;stroke-linecap:butt;stroke-linejoin:miter;stroke-opacity:1\"/>\n",
       "<path d=\"M 70.6,38.4 L 71.8,37.7 L 72.9,38.3\" style=\"fill:none;stroke:#000000;stroke-width:2.0px;stroke-linecap:butt;stroke-linejoin:miter;stroke-miterlimit:10;stroke-opacity:1;\"/>\n",
       "<path class=\"atom-2\" d=\"M 95.4 48.2 L 98.1 52.6 Q 98.4 53.0, 98.8 53.8 Q 99.3 54.6, 99.3 54.6 L 99.3 48.2 L 100.4 48.2 L 100.4 56.5 L 99.2 56.5 L 96.3 51.7 Q 96.0 51.1, 95.6 50.5 Q 95.3 49.8, 95.2 49.6 L 95.2 56.5 L 94.1 56.5 L 94.1 48.2 L 95.4 48.2 \" fill=\"#000000\"/>\n",
       "<path class=\"atom-2\" d=\"M 102.0 48.2 L 103.1 48.2 L 103.1 51.7 L 107.3 51.7 L 107.3 48.2 L 108.5 48.2 L 108.5 56.5 L 107.3 56.5 L 107.3 52.6 L 103.1 52.6 L 103.1 56.5 L 102.0 56.5 L 102.0 48.2 \" fill=\"#000000\"/>\n",
       "<path class=\"atom-2\" d=\"M 110.1 56.2 Q 110.3 55.7, 110.8 55.4 Q 111.3 55.1, 111.9 55.1 Q 112.7 55.1, 113.2 55.5 Q 113.7 56.0, 113.7 56.8 Q 113.7 57.6, 113.1 58.3 Q 112.5 59.1, 111.2 60.0 L 113.8 60.0 L 113.8 60.6 L 110.1 60.6 L 110.1 60.1 Q 111.1 59.4, 111.7 58.8 Q 112.3 58.3, 112.6 57.8 Q 112.9 57.3, 112.9 56.8 Q 112.9 56.3, 112.6 56.0 Q 112.4 55.7, 111.9 55.7 Q 111.5 55.7, 111.2 55.9 Q 110.9 56.1, 110.7 56.4 L 110.1 56.2 \" fill=\"#000000\"/>\n",
       "<path class=\"atom-3\" d=\"M 69.5 11.2 Q 69.6 11.2, 70.0 11.4 Q 70.4 11.6, 70.8 11.7 Q 71.2 11.8, 71.6 11.8 Q 72.4 11.8, 72.9 11.4 Q 73.3 11.0, 73.3 10.3 Q 73.3 9.9, 73.1 9.6 Q 72.9 9.3, 72.5 9.1 Q 72.2 9.0, 71.6 8.8 Q 70.9 8.6, 70.4 8.4 Q 70.0 8.2, 69.7 7.7 Q 69.4 7.3, 69.4 6.5 Q 69.4 5.5, 70.1 4.8 Q 70.8 4.2, 72.2 4.2 Q 73.1 4.2, 74.2 4.7 L 74.0 5.6 Q 73.0 5.1, 72.2 5.1 Q 71.4 5.1, 71.0 5.5 Q 70.5 5.8, 70.5 6.4 Q 70.5 6.8, 70.8 7.1 Q 71.0 7.4, 71.3 7.5 Q 71.7 7.7, 72.2 7.9 Q 73.0 8.1, 73.4 8.3 Q 73.9 8.6, 74.2 9.0 Q 74.5 9.5, 74.5 10.3 Q 74.5 11.5, 73.7 12.1 Q 73.0 12.7, 71.7 12.7 Q 71.0 12.7, 70.4 12.5 Q 69.8 12.4, 69.2 12.1 L 69.5 11.2 \" fill=\"#CCCC00\"/>\n",
       "<path class=\"legend\" d=\"M 11.4 67.2 L 7.9 67.2 L 7.9 66.0 L 16.2 66.0 L 16.2 67.2 L 12.9 67.2 L 12.9 77.3 L 11.4 77.3 L 11.4 67.2 \" fill=\"#000000\"/>\n",
       "<path class=\"legend\" d=\"M 16.8 73.2 Q 16.8 71.1, 17.8 70.0 Q 18.8 68.9, 20.6 68.9 Q 22.4 68.9, 23.2 70.0 Q 24.1 71.1, 24.1 73.1 L 24.1 73.4 L 18.3 73.4 Q 18.3 74.8, 19.0 75.5 Q 19.6 76.2, 20.8 76.2 Q 21.4 76.2, 22.0 76.1 Q 22.6 75.9, 23.3 75.6 L 23.7 76.6 Q 22.9 77.0, 22.2 77.2 Q 21.4 77.4, 20.7 77.4 Q 18.8 77.4, 17.8 76.3 Q 16.8 75.2, 16.8 73.2 M 20.6 70.1 Q 19.7 70.1, 19.1 70.6 Q 18.5 71.2, 18.4 72.2 L 22.5 72.2 Q 22.4 71.1, 21.9 70.6 Q 21.5 70.1, 20.6 70.1 \" fill=\"#000000\"/>\n",
       "<path class=\"legend\" d=\"M 25.7 75.6 Q 26.4 75.9, 26.9 76.0 Q 27.4 76.2, 28.0 76.2 Q 28.7 76.2, 29.1 75.9 Q 29.5 75.6, 29.5 75.0 Q 29.5 74.6, 29.3 74.4 Q 29.1 74.1, 28.8 74.0 Q 28.6 73.9, 27.8 73.7 Q 27.7 73.6, 27.0 73.4 Q 26.3 73.1, 25.9 72.6 Q 25.5 72.0, 25.5 71.2 Q 25.5 70.3, 26.2 69.6 Q 27.0 68.9, 28.5 68.9 Q 29.1 68.9, 29.7 69.1 Q 30.2 69.2, 30.8 69.4 L 30.4 70.6 Q 29.9 70.4, 29.4 70.3 Q 29.0 70.2, 28.5 70.2 Q 27.7 70.2, 27.4 70.5 Q 27.0 70.8, 27.0 71.2 Q 27.0 71.7, 27.3 71.9 Q 27.6 72.1, 28.3 72.4 Q 28.4 72.4, 28.6 72.5 L 29.0 72.6 Q 29.6 72.8, 30.0 73.1 Q 30.4 73.3, 30.7 73.7 Q 31.0 74.2, 31.0 74.9 Q 31.0 76.1, 30.2 76.8 Q 29.3 77.4, 28.0 77.4 Q 27.2 77.4, 26.5 77.3 Q 25.9 77.1, 25.2 76.8 L 25.7 75.6 \" fill=\"#000000\"/>\n",
       "<path class=\"legend\" d=\"M 32.4 70.2 L 32.4 69.1 L 34.0 69.1 L 34.2 66.7 L 35.4 66.7 L 35.4 69.1 L 37.9 69.1 L 37.9 70.2 L 35.4 70.2 L 35.4 74.8 Q 35.4 76.2, 36.6 76.2 Q 37.0 76.2, 37.7 76.0 L 38.0 77.0 Q 37.1 77.4, 36.3 77.4 Q 35.2 77.4, 34.5 76.7 Q 33.8 76.1, 33.8 74.8 L 33.8 70.2 L 32.4 70.2 \" fill=\"#000000\"/>\n",
       "<path class=\"legend\" d=\"\" fill=\"#000000\"/>\n",
       "<path class=\"legend\" d=\"M 44.8 72.7 Q 44.8 70.4, 45.5 68.5 Q 46.1 66.7, 47.4 64.6 L 48.3 65.2 Q 47.3 67.1, 46.8 68.8 Q 46.2 70.5, 46.2 72.7 Q 46.2 74.9, 46.8 76.6 Q 47.3 78.3, 48.3 80.3 L 47.4 80.8 Q 46.1 78.8, 45.5 76.9 Q 44.8 75.0, 44.8 72.7 \" fill=\"#000000\"/>\n",
       "<path class=\"legend\" d=\"M 49.3 66.0 L 50.8 66.0 L 50.8 76.0 L 56.0 76.0 L 56.0 77.3 L 49.3 77.3 L 49.3 66.0 \" fill=\"#000000\"/>\n",
       "<path class=\"legend\" d=\"M 57.0 66.0 L 58.4 66.0 L 58.4 67.3 L 57.0 67.3 L 57.0 66.0 M 57.0 69.1 L 58.4 69.1 L 58.4 77.3 L 57.0 77.3 L 57.0 69.1 \" fill=\"#000000\"/>\n",
       "<path class=\"legend\" d=\"M 64.2 68.9 Q 65.9 68.9, 66.8 70.0 Q 67.8 71.0, 67.8 73.0 Q 67.8 75.1, 66.6 76.3 Q 65.5 77.4, 63.6 77.4 Q 62.6 77.4, 61.8 77.2 L 61.8 81.2 L 60.3 81.2 L 60.3 69.1 L 61.6 69.1 L 61.7 70.0 Q 62.2 69.5, 62.8 69.2 Q 63.4 68.9, 64.2 68.9 M 63.5 76.2 Q 64.8 76.2, 65.5 75.4 Q 66.2 74.5, 66.2 73.0 Q 66.2 71.6, 65.7 70.9 Q 65.1 70.1, 64.1 70.1 Q 63.2 70.1, 62.7 70.5 Q 62.1 71.0, 61.8 71.7 L 61.8 76.0 Q 62.7 76.2, 63.5 76.2 \" fill=\"#000000\"/>\n",
       "<path class=\"legend\" d=\"M 69.0 66.0 L 70.5 66.0 L 70.5 67.3 L 69.0 67.3 L 69.0 66.0 M 69.0 69.1 L 70.5 69.1 L 70.5 77.3 L 69.0 77.3 L 69.0 69.1 \" fill=\"#000000\"/>\n",
       "<path class=\"legend\" d=\"M 76.7 68.9 Q 78.0 68.9, 78.7 69.7 Q 79.4 70.4, 79.4 71.8 L 79.4 77.3 L 77.9 77.3 L 77.9 72.0 Q 77.9 71.0, 77.5 70.5 Q 77.2 70.1, 76.3 70.1 Q 75.6 70.1, 75.0 70.4 Q 74.3 70.8, 73.9 71.4 L 73.9 77.3 L 72.4 77.3 L 72.4 69.1 L 73.7 69.1 L 73.8 70.2 Q 74.9 68.9, 76.7 68.9 \" fill=\"#000000\"/>\n",
       "<path class=\"legend\" d=\"M 81.6 75.6 Q 82.4 75.9, 82.9 76.0 Q 83.4 76.2, 84.0 76.2 Q 84.7 76.2, 85.1 75.9 Q 85.5 75.6, 85.5 75.0 Q 85.5 74.6, 85.3 74.4 Q 85.1 74.1, 84.8 74.0 Q 84.5 73.9, 83.8 73.7 Q 83.7 73.6, 83.0 73.4 Q 82.2 73.1, 81.8 72.6 Q 81.5 72.0, 81.5 71.2 Q 81.5 70.3, 82.2 69.6 Q 83.0 68.9, 84.5 68.9 Q 85.1 68.9, 85.6 69.1 Q 86.2 69.2, 86.8 69.4 L 86.4 70.6 Q 85.9 70.4, 85.4 70.3 Q 85.0 70.2, 84.5 70.2 Q 83.7 70.2, 83.3 70.5 Q 83.0 70.8, 83.0 71.2 Q 83.0 71.7, 83.3 71.9 Q 83.6 72.1, 84.2 72.4 Q 84.4 72.4, 84.6 72.5 L 84.9 72.6 Q 85.6 72.8, 86.0 73.1 Q 86.4 73.3, 86.7 73.7 Q 87.0 74.2, 87.0 74.9 Q 87.0 76.1, 86.2 76.8 Q 85.3 77.4, 84.0 77.4 Q 83.2 77.4, 82.5 77.3 Q 81.9 77.1, 81.2 76.8 L 81.6 75.6 \" fill=\"#000000\"/>\n",
       "<path class=\"legend\" d=\"M 88.4 77.3 L 88.4 65.1 L 89.9 65.1 L 89.9 77.3 L 88.4 77.3 M 91.9 72.5 L 95.4 77.3 L 93.6 77.3 L 90.2 72.6 L 93.1 69.1 L 94.8 69.1 L 91.9 72.5 \" fill=\"#000000\"/>\n",
       "<path class=\"legend\" d=\"M 96.0 66.0 L 97.4 66.0 L 97.4 67.3 L 96.0 67.3 L 96.0 66.0 M 96.0 69.1 L 97.4 69.1 L 97.4 77.3 L 96.0 77.3 L 96.0 69.1 \" fill=\"#000000\"/>\n",
       "<path class=\"legend\" d=\"\" fill=\"#000000\"/>\n",
       "<path class=\"legend\" d=\"M 105.2 66.0 L 106.8 66.0 L 106.8 70.8 L 112.6 70.8 L 112.6 66.0 L 114.1 66.0 L 114.1 77.3 L 112.6 77.3 L 112.6 72.0 L 106.8 72.0 L 106.8 77.3 L 105.2 77.3 L 105.2 66.0 \" fill=\"#000000\"/>\n",
       "<path class=\"legend\" d=\"M 121.5 71.3 Q 122.6 71.6, 123.1 72.3 Q 123.7 73.0, 123.7 73.9 Q 123.7 75.5, 122.7 76.4 Q 121.7 77.3, 119.8 77.3 L 116.0 77.3 L 116.0 66.0 L 119.3 66.0 Q 121.3 66.0, 122.2 66.7 Q 123.2 67.5, 123.2 69.0 Q 123.2 70.7, 121.5 71.3 M 117.5 67.2 L 117.5 70.8 L 119.3 70.8 Q 120.5 70.8, 121.0 70.3 Q 121.6 69.9, 121.6 69.0 Q 121.6 67.2, 119.3 67.2 L 117.5 67.2 M 119.8 76.0 Q 120.9 76.0, 121.5 75.5 Q 122.1 74.9, 122.1 73.9 Q 122.1 73.0, 121.4 72.5 Q 120.8 72.1, 119.6 72.1 L 117.5 72.1 L 117.5 76.0 L 119.8 76.0 \" fill=\"#000000\"/>\n",
       "<path class=\"legend\" d=\"M 133.3 77.3 L 132.1 74.0 L 127.6 74.0 L 126.5 77.3 L 125.0 77.3 L 128.9 66.0 L 130.8 66.0 L 134.8 77.3 L 133.3 77.3 M 128.1 72.7 L 131.7 72.7 L 129.8 67.5 L 128.1 72.7 \" fill=\"#000000\"/>\n",
       "<path class=\"legend\" d=\"M 135.5 70.3 L 142.9 70.3 L 142.9 71.5 L 135.5 71.5 L 135.5 70.3 M 135.5 73.7 L 142.9 73.7 L 142.9 74.9 L 135.5 74.9 L 135.5 73.7 \" fill=\"#000000\"/>\n",
       "<path class=\"legend\" d=\"M 145.5 76.0 L 148.0 76.0 L 148.0 67.5 L 145.2 68.4 L 144.9 67.4 L 148.3 65.9 L 149.5 66.1 L 149.5 76.0 L 151.7 76.0 L 151.7 77.3 L 145.5 77.3 L 145.5 76.0 \" fill=\"#000000\"/>\n",
       "<path class=\"legend\" d=\"M 156.4 72.7 Q 156.4 75.0, 155.7 76.9 Q 155.1 78.8, 153.8 80.8 L 152.9 80.3 Q 153.9 78.3, 154.4 76.6 Q 155.0 74.9, 155.0 72.7 Q 155.0 70.5, 154.4 68.8 Q 153.9 67.1, 152.9 65.2 L 153.8 64.6 Q 155.1 66.7, 155.7 68.5 Q 156.4 70.4, 156.4 72.7 \" fill=\"#000000\"/>\n",
       "</svg>"
      ],
      "text/plain": [
       "<IPython.core.display.SVG object>"
      ]
     },
     "execution_count": 3,
     "metadata": {},
     "output_type": "execute_result"
    }
   ],
   "source": [
    "# Find all HBA atoms in the molecule, defined by Lipinski (All Ns and Os)\n",
    "lipinski_hba_atoms = [atom.GetIdx() for atom in mol.GetAtoms() if atom.GetAtomicNum() in (7, 8)]\n",
    "hba = rdMolDescriptors.CalcNumLipinskiHBA(mol)\n",
    "\n",
    "# Highlight nitrogen atoms in blue\n",
    "img = draw_molecule(mol,\n",
    "    legend = name + f\" (Lipinski HBA={hba})\", \n",
    "    highlight_atoms = lipinski_hba_atoms,\n",
    "    highlight_color = (1.0, 0.4, 0.4)\n",
    ")\n",
    "SVG(img)"
   ]
  },
  {
   "cell_type": "code",
   "execution_count": 4,
   "id": "87819e67",
   "metadata": {},
   "outputs": [
    {
     "data": {
      "image/svg+xml": [
       "<svg xmlns=\"http://www.w3.org/2000/svg\" xmlns:rdkit=\"http://www.rdkit.org/xml\" xmlns:xlink=\"http://www.w3.org/1999/xlink\" version=\"1.1\" baseProfile=\"full\" xml:space=\"preserve\" width=\"164px\" height=\"84px\" viewBox=\"0 0 164 84\">\n",
       "<!-- END OF HEADER -->\n",
       "<rect style=\"opacity:1.0;fill:#FFFFFF;stroke:none\" width=\"164.0\" height=\"84.0\" x=\"0.0\" y=\"0.0\"> </rect>\n",
       "<ellipse cx=\"104.5\" cy=\"54.4\" rx=\"13.9\" ry=\"8.8\" class=\"atom-2\" style=\"fill:#66B2FF;fill-rule:evenodd;stroke:#66B2FF;stroke-width:1.0px;stroke-linecap:butt;stroke-linejoin:miter;stroke-opacity:1\"/>\n",
       "<path class=\"bond-0 atom-0 atom-1\" d=\"M 47.0,52.3 L 72.4,37.7\" style=\"fill:none;fill-rule:evenodd;stroke:#000000;stroke-width:2.0px;stroke-linecap:butt;stroke-linejoin:miter;stroke-opacity:1\"/>\n",
       "<path class=\"bond-1 atom-1 atom-2\" d=\"M 72.4,37.7 L 93.7,49.9\" style=\"fill:none;fill-rule:evenodd;stroke:#000000;stroke-width:2.0px;stroke-linecap:butt;stroke-linejoin:miter;stroke-opacity:1\"/>\n",
       "<path class=\"bond-2 atom-1 atom-3\" d=\"M 74.6,38.9 L 74.6,26.3\" style=\"fill:none;fill-rule:evenodd;stroke:#000000;stroke-width:2.0px;stroke-linecap:butt;stroke-linejoin:miter;stroke-opacity:1\"/>\n",
       "<path class=\"bond-2 atom-1 atom-3\" d=\"M 74.6,26.3 L 74.6,13.7\" style=\"fill:none;fill-rule:evenodd;stroke:#CCCC00;stroke-width:2.0px;stroke-linecap:butt;stroke-linejoin:miter;stroke-opacity:1\"/>\n",
       "<path class=\"bond-2 atom-1 atom-3\" d=\"M 70.2,38.9 L 70.2,26.3\" style=\"fill:none;fill-rule:evenodd;stroke:#000000;stroke-width:2.0px;stroke-linecap:butt;stroke-linejoin:miter;stroke-opacity:1\"/>\n",
       "<path class=\"bond-2 atom-1 atom-3\" d=\"M 70.2,26.3 L 70.2,13.7\" style=\"fill:none;fill-rule:evenodd;stroke:#CCCC00;stroke-width:2.0px;stroke-linecap:butt;stroke-linejoin:miter;stroke-opacity:1\"/>\n",
       "<path d=\"M 71.1,38.4 L 72.4,37.7 L 73.5,38.3\" style=\"fill:none;stroke:#000000;stroke-width:2.0px;stroke-linecap:butt;stroke-linejoin:miter;stroke-miterlimit:10;stroke-opacity:1;\"/>\n",
       "<path class=\"atom-2\" d=\"M 96.0 48.2 L 98.7 52.6 Q 98.9 53.0, 99.4 53.8 Q 99.8 54.6, 99.8 54.6 L 99.8 48.2 L 100.9 48.2 L 100.9 56.5 L 99.8 56.5 L 96.9 51.7 Q 96.5 51.1, 96.2 50.5 Q 95.8 49.8, 95.7 49.6 L 95.7 56.5 L 94.6 56.5 L 94.6 48.2 L 96.0 48.2 \" fill=\"#000000\"/>\n",
       "<path class=\"atom-2\" d=\"M 102.5 48.2 L 103.6 48.2 L 103.6 51.7 L 107.9 51.7 L 107.9 48.2 L 109.0 48.2 L 109.0 56.5 L 107.9 56.5 L 107.9 52.6 L 103.6 52.6 L 103.6 56.5 L 102.5 56.5 L 102.5 48.2 \" fill=\"#000000\"/>\n",
       "<path class=\"atom-2\" d=\"M 110.6 56.2 Q 110.8 55.7, 111.3 55.4 Q 111.8 55.1, 112.5 55.1 Q 113.3 55.1, 113.8 55.5 Q 114.2 56.0, 114.2 56.8 Q 114.2 57.6, 113.6 58.3 Q 113.0 59.1, 111.8 60.0 L 114.3 60.0 L 114.3 60.6 L 110.6 60.6 L 110.6 60.1 Q 111.6 59.4, 112.3 58.8 Q 112.9 58.3, 113.2 57.8 Q 113.5 57.3, 113.5 56.8 Q 113.5 56.3, 113.2 56.0 Q 112.9 55.7, 112.5 55.7 Q 112.0 55.7, 111.7 55.9 Q 111.4 56.1, 111.2 56.4 L 110.6 56.2 \" fill=\"#000000\"/>\n",
       "<path class=\"atom-3\" d=\"M 70.0 11.2 Q 70.1 11.2, 70.5 11.4 Q 70.9 11.6, 71.3 11.7 Q 71.8 11.8, 72.2 11.8 Q 73.0 11.8, 73.4 11.4 Q 73.9 11.0, 73.9 10.3 Q 73.9 9.9, 73.7 9.6 Q 73.4 9.3, 73.1 9.1 Q 72.7 9.0, 72.1 8.8 Q 71.4 8.6, 71.0 8.4 Q 70.5 8.2, 70.2 7.7 Q 69.9 7.3, 69.9 6.5 Q 69.9 5.5, 70.6 4.8 Q 71.3 4.2, 72.7 4.2 Q 73.7 4.2, 74.8 4.7 L 74.5 5.6 Q 73.5 5.1, 72.8 5.1 Q 72.0 5.1, 71.5 5.5 Q 71.1 5.8, 71.1 6.4 Q 71.1 6.8, 71.3 7.1 Q 71.5 7.4, 71.9 7.5 Q 72.2 7.7, 72.8 7.9 Q 73.5 8.1, 74.0 8.3 Q 74.4 8.6, 74.7 9.0 Q 75.1 9.5, 75.1 10.3 Q 75.1 11.5, 74.3 12.1 Q 73.5 12.7, 72.2 12.7 Q 71.5 12.7, 70.9 12.5 Q 70.4 12.4, 69.7 12.1 L 70.0 11.2 \" fill=\"#CCCC00\"/>\n",
       "<path class=\"legend\" d=\"M 11.1 67.2 L 7.6 67.2 L 7.6 66.0 L 16.0 66.0 L 16.0 67.2 L 12.7 67.2 L 12.7 77.3 L 11.1 77.3 L 11.1 67.2 \" fill=\"#000000\"/>\n",
       "<path class=\"legend\" d=\"M 16.5 73.2 Q 16.5 71.1, 17.5 70.0 Q 18.5 68.9, 20.4 68.9 Q 22.2 68.9, 23.0 70.0 Q 23.8 71.1, 23.8 73.1 L 23.8 73.4 L 18.0 73.4 Q 18.1 74.8, 18.7 75.5 Q 19.3 76.2, 20.5 76.2 Q 21.1 76.2, 21.7 76.1 Q 22.3 75.9, 23.0 75.6 L 23.5 76.6 Q 22.7 77.0, 21.9 77.2 Q 21.2 77.4, 20.4 77.4 Q 18.6 77.4, 17.5 76.3 Q 16.5 75.2, 16.5 73.2 M 20.4 70.1 Q 19.4 70.1, 18.8 70.6 Q 18.3 71.2, 18.1 72.2 L 22.2 72.2 Q 22.1 71.1, 21.6 70.6 Q 21.2 70.1, 20.4 70.1 \" fill=\"#000000\"/>\n",
       "<path class=\"legend\" d=\"M 25.4 75.6 Q 26.1 75.9, 26.6 76.0 Q 27.2 76.2, 27.7 76.2 Q 28.4 76.2, 28.8 75.9 Q 29.3 75.6, 29.3 75.0 Q 29.3 74.6, 29.0 74.4 Q 28.8 74.1, 28.6 74.0 Q 28.3 73.9, 27.6 73.7 Q 27.5 73.6, 26.7 73.4 Q 26.0 73.1, 25.6 72.6 Q 25.2 72.0, 25.2 71.2 Q 25.2 70.3, 26.0 69.6 Q 26.7 68.9, 28.2 68.9 Q 28.9 68.9, 29.4 69.1 Q 30.0 69.2, 30.6 69.4 L 30.2 70.6 Q 29.6 70.4, 29.2 70.3 Q 28.7 70.2, 28.2 70.2 Q 27.5 70.2, 27.1 70.5 Q 26.7 70.8, 26.7 71.2 Q 26.7 71.7, 27.0 71.9 Q 27.3 72.1, 28.0 72.4 Q 28.2 72.4, 28.3 72.5 L 28.7 72.6 Q 29.4 72.8, 29.8 73.1 Q 30.2 73.3, 30.5 73.7 Q 30.8 74.2, 30.8 74.9 Q 30.8 76.1, 29.9 76.8 Q 29.1 77.4, 27.7 77.4 Q 27.0 77.4, 26.3 77.3 Q 25.6 77.1, 24.9 76.8 L 25.4 75.6 \" fill=\"#000000\"/>\n",
       "<path class=\"legend\" d=\"M 32.1 70.2 L 32.1 69.1 L 33.7 69.1 L 34.0 66.7 L 35.1 66.7 L 35.1 69.1 L 37.6 69.1 L 37.6 70.2 L 35.1 70.2 L 35.1 74.8 Q 35.1 76.2, 36.3 76.2 Q 36.8 76.2, 37.5 76.0 L 37.7 77.0 Q 36.8 77.4, 36.0 77.4 Q 34.9 77.4, 34.3 76.7 Q 33.6 76.1, 33.6 74.8 L 33.6 70.2 L 32.1 70.2 \" fill=\"#000000\"/>\n",
       "<path class=\"legend\" d=\"\" fill=\"#000000\"/>\n",
       "<path class=\"legend\" d=\"M 44.5 72.7 Q 44.5 70.4, 45.2 68.5 Q 45.9 66.7, 47.2 64.6 L 48.1 65.2 Q 47.0 67.1, 46.5 68.8 Q 46.0 70.5, 46.0 72.7 Q 46.0 74.9, 46.5 76.6 Q 47.0 78.3, 48.1 80.3 L 47.2 80.8 Q 45.9 78.8, 45.2 76.9 Q 44.5 75.0, 44.5 72.7 \" fill=\"#000000\"/>\n",
       "<path class=\"legend\" d=\"M 49.0 66.0 L 50.5 66.0 L 50.5 76.0 L 55.7 76.0 L 55.7 77.3 L 49.0 77.3 L 49.0 66.0 \" fill=\"#000000\"/>\n",
       "<path class=\"legend\" d=\"M 56.7 66.0 L 58.2 66.0 L 58.2 67.3 L 56.7 67.3 L 56.7 66.0 M 56.7 69.1 L 58.2 69.1 L 58.2 77.3 L 56.7 77.3 L 56.7 69.1 \" fill=\"#000000\"/>\n",
       "<path class=\"legend\" d=\"M 63.9 68.9 Q 65.6 68.9, 66.5 70.0 Q 67.5 71.0, 67.5 73.0 Q 67.5 75.1, 66.4 76.3 Q 65.3 77.4, 63.3 77.4 Q 62.4 77.4, 61.6 77.2 L 61.6 81.2 L 60.1 81.2 L 60.1 69.1 L 61.3 69.1 L 61.5 70.0 Q 61.9 69.5, 62.5 69.2 Q 63.1 68.9, 63.9 68.9 M 63.3 76.2 Q 64.5 76.2, 65.3 75.4 Q 66.0 74.5, 66.0 73.0 Q 66.0 71.6, 65.4 70.9 Q 64.8 70.1, 63.8 70.1 Q 63.0 70.1, 62.4 70.5 Q 61.8 71.0, 61.6 71.7 L 61.6 76.0 Q 62.4 76.2, 63.3 76.2 \" fill=\"#000000\"/>\n",
       "<path class=\"legend\" d=\"M 68.8 66.0 L 70.2 66.0 L 70.2 67.3 L 68.8 67.3 L 68.8 66.0 M 68.8 69.1 L 70.2 69.1 L 70.2 77.3 L 68.8 77.3 L 68.8 69.1 \" fill=\"#000000\"/>\n",
       "<path class=\"legend\" d=\"M 76.4 68.9 Q 77.8 68.9, 78.4 69.7 Q 79.1 70.4, 79.1 71.8 L 79.1 77.3 L 77.6 77.3 L 77.6 72.0 Q 77.6 71.0, 77.3 70.5 Q 76.9 70.1, 76.1 70.1 Q 75.3 70.1, 74.7 70.4 Q 74.1 70.8, 73.7 71.4 L 73.7 77.3 L 72.2 77.3 L 72.2 69.1 L 73.4 69.1 L 73.6 70.2 Q 74.7 68.9, 76.4 68.9 \" fill=\"#000000\"/>\n",
       "<path class=\"legend\" d=\"M 81.4 75.6 Q 82.1 75.9, 82.6 76.0 Q 83.1 76.2, 83.7 76.2 Q 84.4 76.2, 84.8 75.9 Q 85.2 75.6, 85.2 75.0 Q 85.2 74.6, 85.0 74.4 Q 84.8 74.1, 84.5 74.0 Q 84.3 73.9, 83.6 73.7 Q 83.4 73.6, 82.7 73.4 Q 82.0 73.1, 81.6 72.6 Q 81.2 72.0, 81.2 71.2 Q 81.2 70.3, 82.0 69.6 Q 82.7 68.9, 84.2 68.9 Q 84.8 68.9, 85.4 69.1 Q 85.9 69.2, 86.5 69.4 L 86.1 70.6 Q 85.6 70.4, 85.2 70.3 Q 84.7 70.2, 84.2 70.2 Q 83.5 70.2, 83.1 70.5 Q 82.7 70.8, 82.7 71.2 Q 82.7 71.7, 83.0 71.9 Q 83.3 72.1, 84.0 72.4 Q 84.1 72.4, 84.3 72.5 L 84.7 72.6 Q 85.3 72.8, 85.7 73.1 Q 86.2 73.3, 86.4 73.7 Q 86.7 74.2, 86.7 74.9 Q 86.7 76.1, 85.9 76.8 Q 85.1 77.4, 83.7 77.4 Q 82.9 77.4, 82.3 77.3 Q 81.6 77.1, 80.9 76.8 L 81.4 75.6 \" fill=\"#000000\"/>\n",
       "<path class=\"legend\" d=\"M 88.1 77.3 L 88.1 65.1 L 89.6 65.1 L 89.6 77.3 L 88.1 77.3 M 91.6 72.5 L 95.1 77.3 L 93.4 77.3 L 89.9 72.6 L 92.8 69.1 L 94.5 69.1 L 91.6 72.5 \" fill=\"#000000\"/>\n",
       "<path class=\"legend\" d=\"M 95.7 66.0 L 97.2 66.0 L 97.2 67.3 L 95.7 67.3 L 95.7 66.0 M 95.7 69.1 L 97.2 69.1 L 97.2 77.3 L 95.7 77.3 L 95.7 69.1 \" fill=\"#000000\"/>\n",
       "<path class=\"legend\" d=\"\" fill=\"#000000\"/>\n",
       "<path class=\"legend\" d=\"M 105.0 66.0 L 106.5 66.0 L 106.5 70.8 L 112.3 70.8 L 112.3 66.0 L 113.8 66.0 L 113.8 77.3 L 112.3 77.3 L 112.3 72.0 L 106.5 72.0 L 106.5 77.3 L 105.0 77.3 L 105.0 66.0 \" fill=\"#000000\"/>\n",
       "<path class=\"legend\" d=\"M 121.2 71.3 Q 122.3 71.6, 122.9 72.3 Q 123.4 73.0, 123.4 73.9 Q 123.4 75.5, 122.4 76.4 Q 121.4 77.3, 119.5 77.3 L 115.7 77.3 L 115.7 66.0 L 119.1 66.0 Q 121.0 66.0, 122.0 66.7 Q 122.9 67.5, 122.9 69.0 Q 122.9 70.7, 121.2 71.3 M 117.2 67.2 L 117.2 70.8 L 119.1 70.8 Q 120.2 70.8, 120.8 70.3 Q 121.3 69.9, 121.3 69.0 Q 121.3 67.2, 119.1 67.2 L 117.2 67.2 M 119.5 76.0 Q 120.6 76.0, 121.2 75.5 Q 121.8 74.9, 121.8 73.9 Q 121.8 73.0, 121.2 72.5 Q 120.5 72.1, 119.3 72.1 L 117.2 72.1 L 117.2 76.0 L 119.5 76.0 \" fill=\"#000000\"/>\n",
       "<path class=\"legend\" d=\"M 128.4 66.0 Q 130.9 66.0, 132.2 67.4 Q 133.6 68.9, 133.6 71.6 Q 133.6 74.3, 132.2 75.8 Q 130.8 77.3, 128.4 77.3 L 124.7 77.3 L 124.7 66.0 L 128.4 66.0 M 128.4 76.0 Q 130.1 76.0, 131.0 74.9 Q 132.0 73.8, 132.0 71.6 Q 132.0 69.4, 131.0 68.3 Q 130.1 67.2, 128.4 67.2 L 126.2 67.2 L 126.2 76.0 L 128.4 76.0 \" fill=\"#000000\"/>\n",
       "<path class=\"legend\" d=\"M 134.8 70.3 L 142.1 70.3 L 142.1 71.5 L 134.8 71.5 L 134.8 70.3 M 134.8 73.7 L 142.1 73.7 L 142.1 74.9 L 134.8 74.9 L 134.8 73.7 \" fill=\"#000000\"/>\n",
       "<path class=\"legend\" d=\"M 144.2 68.1 Q 144.6 67.0, 145.6 66.4 Q 146.6 65.8, 147.9 65.8 Q 149.6 65.8, 150.6 66.8 Q 151.6 67.7, 151.6 69.3 Q 151.6 71.0, 150.3 72.6 Q 149.1 74.1, 146.5 76.0 L 151.8 76.0 L 151.8 77.3 L 144.1 77.3 L 144.1 76.2 Q 146.2 74.7, 147.5 73.6 Q 148.8 72.5, 149.4 71.5 Q 150.0 70.4, 150.0 69.4 Q 150.0 68.3, 149.4 67.7 Q 148.9 67.1, 147.9 67.1 Q 147.0 67.1, 146.4 67.5 Q 145.8 67.8, 145.4 68.7 L 144.2 68.1 \" fill=\"#000000\"/>\n",
       "<path class=\"legend\" d=\"M 156.8 72.7 Q 156.8 75.0, 156.1 76.9 Q 155.5 78.8, 154.2 80.8 L 153.3 80.3 Q 154.3 78.3, 154.8 76.6 Q 155.3 74.9, 155.3 72.7 Q 155.3 70.5, 154.8 68.8 Q 154.3 67.1, 153.3 65.2 L 154.2 64.6 Q 155.5 66.7, 156.1 68.5 Q 156.8 70.4, 156.8 72.7 \" fill=\"#000000\"/>\n",
       "</svg>"
      ],
      "text/plain": [
       "<IPython.core.display.SVG object>"
      ]
     },
     "execution_count": 4,
     "metadata": {},
     "output_type": "execute_result"
    }
   ],
   "source": [
    "# Find all HBD atoms in the molecule, defined by Lipinski (All NHs and OHs)\n",
    "lipinski_hba_atoms = [atom for atom in mol.GetAtoms() if atom.GetAtomicNum() in (7, 8)]\n",
    "lipinski_hbd_atoms = [atom.GetIdx() for atom in lipinski_hba_atoms if atom.GetTotalNumHs() > 0]\n",
    "hbd = rdMolDescriptors.CalcNumLipinskiHBD(mol)\n",
    "\n",
    "# Highlight nitrogen atoms in blue\n",
    "img = draw_molecule(mol,\n",
    "    legend = name + f\" (Lipinski HBD={hbd})\", \n",
    "    highlight_atoms = lipinski_hbd_atoms,\n",
    "    highlight_color = (0.4, 0.7, 1.0)\n",
    ")\n",
    "SVG(img)"
   ]
  },
  {
   "cell_type": "code",
   "execution_count": 5,
   "id": "d3dad733",
   "metadata": {},
   "outputs": [
    {
     "data": {
      "image/svg+xml": [
       "<svg xmlns=\"http://www.w3.org/2000/svg\" xmlns:rdkit=\"http://www.rdkit.org/xml\" xmlns:xlink=\"http://www.w3.org/1999/xlink\" version=\"1.1\" baseProfile=\"full\" xml:space=\"preserve\" width=\"102px\" height=\"83px\" viewBox=\"0 0 102 83\">\n",
       "<!-- END OF HEADER -->\n",
       "<rect style=\"opacity:1.0;fill:#FFFFFF;stroke:none\" width=\"102.0\" height=\"83.0\" x=\"0.0\" y=\"0.0\"> </rect>\n",
       "<ellipse cx=\"43.4\" cy=\"10.2\" rx=\"5.8\" ry=\"6.0\" class=\"atom-3\" style=\"fill:#FF6666;fill-rule:evenodd;stroke:#FF6666;stroke-width:1.0px;stroke-linecap:butt;stroke-linejoin:miter;stroke-opacity:1\"/>\n",
       "<path class=\"bond-0 atom-0 atom-1\" d=\"M 18.1,53.8 L 43.4,39.2\" style=\"fill:none;fill-rule:evenodd;stroke:#000000;stroke-width:2.0px;stroke-linecap:butt;stroke-linejoin:miter;stroke-opacity:1\"/>\n",
       "<path class=\"bond-1 atom-1 atom-2\" d=\"M 43.4,39.2 L 54.0,45.4\" style=\"fill:none;fill-rule:evenodd;stroke:#000000;stroke-width:2.0px;stroke-linecap:butt;stroke-linejoin:miter;stroke-opacity:1\"/>\n",
       "<path class=\"bond-1 atom-1 atom-2\" d=\"M 54.0,45.4 L 64.5,51.5\" style=\"fill:none;fill-rule:evenodd;stroke:#0000FF;stroke-width:2.0px;stroke-linecap:butt;stroke-linejoin:miter;stroke-opacity:1\"/>\n",
       "<path class=\"bond-2 atom-1 atom-3\" d=\"M 45.6,40.5 L 45.6,15.4\" style=\"fill:none;fill-rule:evenodd;stroke:#000000;stroke-width:2.0px;stroke-linecap:butt;stroke-linejoin:miter;stroke-opacity:1\"/>\n",
       "<path class=\"bond-2 atom-1 atom-3\" d=\"M 41.2,40.5 L 41.2,15.4\" style=\"fill:none;fill-rule:evenodd;stroke:#000000;stroke-width:2.0px;stroke-linecap:butt;stroke-linejoin:miter;stroke-opacity:1\"/>\n",
       "<path d=\"M 42.1,40.0 L 43.4,39.2 L 43.9,39.6\" style=\"fill:none;stroke:#000000;stroke-width:2.0px;stroke-linecap:butt;stroke-linejoin:miter;stroke-miterlimit:10;stroke-opacity:1;\"/>\n",
       "<path class=\"atom-2\" d=\"M 66.8 49.7 L 69.5 54.1 Q 69.8 54.5, 70.2 55.3 Q 70.7 56.1, 70.7 56.1 L 70.7 49.7 L 71.8 49.7 L 71.8 58.0 L 70.6 58.0 L 67.7 53.2 Q 67.4 52.6, 67.0 52.0 Q 66.7 51.3, 66.6 51.1 L 66.6 58.0 L 65.5 58.0 L 65.5 49.7 L 66.8 49.7 \" fill=\"#0000FF\"/>\n",
       "<path class=\"atom-2\" d=\"M 73.4 49.7 L 74.5 49.7 L 74.5 53.2 L 78.7 53.2 L 78.7 49.7 L 79.8 49.7 L 79.8 58.0 L 78.7 58.0 L 78.7 54.2 L 74.5 54.2 L 74.5 58.0 L 73.4 58.0 L 73.4 49.7 \" fill=\"#0000FF\"/>\n",
       "<path class=\"atom-2\" d=\"M 81.4 57.7 Q 81.6 57.2, 82.1 56.9 Q 82.6 56.6, 83.3 56.6 Q 84.1 56.6, 84.5 57.0 Q 85.0 57.5, 85.0 58.3 Q 85.0 59.1, 84.4 59.8 Q 83.8 60.6, 82.6 61.5 L 85.1 61.5 L 85.1 62.1 L 81.4 62.1 L 81.4 61.6 Q 82.4 60.9, 83.0 60.3 Q 83.7 59.8, 83.9 59.3 Q 84.2 58.8, 84.2 58.3 Q 84.2 57.8, 84.0 57.5 Q 83.7 57.2, 83.3 57.2 Q 82.8 57.2, 82.5 57.4 Q 82.2 57.6, 82.0 58.0 L 81.4 57.7 \" fill=\"#0000FF\"/>\n",
       "<path class=\"atom-3\" d=\"M 41.0 12.9 Q 41.1 12.9, 41.5 13.1 Q 41.9 13.3, 42.3 13.4 Q 42.8 13.5, 43.2 13.5 Q 44.0 13.5, 44.4 13.1 Q 44.9 12.7, 44.9 12.0 Q 44.9 11.6, 44.6 11.3 Q 44.4 11.0, 44.1 10.9 Q 43.7 10.7, 43.1 10.5 Q 42.4 10.3, 41.9 10.1 Q 41.5 9.9, 41.2 9.5 Q 40.9 9.0, 40.9 8.3 Q 40.9 7.2, 41.6 6.6 Q 42.3 5.9, 43.7 5.9 Q 44.7 5.9, 45.8 6.4 L 45.5 7.3 Q 44.5 6.9, 43.7 6.9 Q 42.9 6.9, 42.5 7.2 Q 42.1 7.6, 42.1 8.1 Q 42.1 8.6, 42.3 8.8 Q 42.5 9.1, 42.8 9.3 Q 43.2 9.4, 43.7 9.6 Q 44.5 9.8, 44.9 10.1 Q 45.4 10.3, 45.7 10.8 Q 46.0 11.2, 46.0 12.0 Q 46.0 13.2, 45.3 13.8 Q 44.5 14.4, 43.2 14.4 Q 42.5 14.4, 41.9 14.2 Q 41.4 14.1, 40.7 13.8 L 41.0 12.9 \" fill=\"#000000\"/>\n",
       "<path class=\"legend\" d=\"M 7.9 66.6 L 4.4 66.6 L 4.4 65.3 L 12.7 65.3 L 12.7 66.6 L 9.4 66.6 L 9.4 76.6 L 7.9 76.6 L 7.9 66.6 \" fill=\"#000000\"/>\n",
       "<path class=\"legend\" d=\"M 13.3 72.5 Q 13.3 70.5, 14.3 69.4 Q 15.3 68.2, 17.2 68.2 Q 19.0 68.2, 19.8 69.3 Q 20.6 70.4, 20.6 72.4 L 20.6 72.7 L 14.9 72.7 Q 14.9 74.1, 15.5 74.8 Q 16.1 75.5, 17.3 75.5 Q 18.0 75.5, 18.5 75.4 Q 19.1 75.2, 19.9 74.9 L 20.3 75.9 Q 19.5 76.4, 18.7 76.6 Q 18.0 76.7, 17.2 76.7 Q 15.4 76.7, 14.4 75.6 Q 13.3 74.5, 13.3 72.5 M 17.2 69.4 Q 16.2 69.4, 15.7 70.0 Q 15.1 70.5, 14.9 71.6 L 19.0 71.6 Q 18.9 70.5, 18.5 69.9 Q 18.0 69.4, 17.2 69.4 \" fill=\"#000000\"/>\n",
       "<path class=\"legend\" d=\"M 22.3 74.9 Q 23.0 75.2, 23.5 75.4 Q 24.1 75.5, 24.6 75.5 Q 25.3 75.5, 25.7 75.2 Q 26.2 74.9, 26.2 74.3 Q 26.2 73.9, 25.9 73.7 Q 25.7 73.5, 25.5 73.4 Q 25.2 73.2, 24.5 73.0 Q 24.4 73.0, 23.6 72.7 Q 22.9 72.5, 22.5 71.9 Q 22.1 71.4, 22.1 70.6 Q 22.1 69.6, 22.9 68.9 Q 23.6 68.2, 25.1 68.2 Q 25.8 68.2, 26.3 68.4 Q 26.9 68.5, 27.5 68.8 L 27.1 69.9 Q 26.5 69.7, 26.1 69.6 Q 25.6 69.5, 25.1 69.5 Q 24.4 69.5, 24.0 69.8 Q 23.6 70.1, 23.6 70.6 Q 23.6 71.0, 23.9 71.2 Q 24.2 71.4, 24.9 71.7 Q 25.1 71.7, 25.2 71.8 L 25.6 71.9 Q 26.3 72.2, 26.7 72.4 Q 27.1 72.6, 27.4 73.1 Q 27.7 73.5, 27.7 74.3 Q 27.7 75.4, 26.8 76.1 Q 26.0 76.7, 24.6 76.7 Q 23.9 76.7, 23.2 76.6 Q 22.5 76.4, 21.8 76.1 L 22.3 74.9 \" fill=\"#000000\"/>\n",
       "<path class=\"legend\" d=\"M 29.1 69.5 L 29.1 68.4 L 30.7 68.4 L 31.0 66.0 L 32.1 66.0 L 32.1 68.4 L 34.6 68.4 L 34.6 69.5 L 32.1 69.5 L 32.1 74.1 Q 32.1 75.5, 33.3 75.5 Q 33.8 75.5, 34.5 75.3 L 34.7 76.3 Q 33.8 76.7, 33.0 76.7 Q 31.9 76.7, 31.2 76.1 Q 30.6 75.4, 30.6 74.2 L 30.6 69.5 L 29.1 69.5 \" fill=\"#000000\"/>\n",
       "<path class=\"legend\" d=\"\" fill=\"#000000\"/>\n",
       "<path class=\"legend\" d=\"M 41.7 72.0 Q 41.7 69.7, 42.4 67.9 Q 43.0 66.0, 44.3 63.9 L 45.2 64.5 Q 44.2 66.4, 43.6 68.1 Q 43.1 69.8, 43.1 72.0 Q 43.1 74.2, 43.6 75.9 Q 44.2 77.6, 45.2 79.6 L 44.3 80.2 Q 43.0 78.1, 42.4 76.2 Q 41.7 74.4, 41.7 72.0 \" fill=\"#000000\"/>\n",
       "<path class=\"legend\" d=\"M 46.2 65.3 L 47.8 65.3 L 47.8 70.1 L 53.6 70.1 L 53.6 65.3 L 55.1 65.3 L 55.1 76.6 L 53.6 76.6 L 53.6 71.4 L 47.8 71.4 L 47.8 76.6 L 46.2 76.6 L 46.2 65.3 \" fill=\"#000000\"/>\n",
       "<path class=\"legend\" d=\"M 62.6 70.6 Q 63.7 71.0, 64.2 71.6 Q 64.8 72.3, 64.8 73.3 Q 64.8 74.8, 63.8 75.7 Q 62.8 76.6, 60.9 76.6 L 57.1 76.6 L 57.1 65.3 L 60.4 65.3 Q 62.4 65.3, 63.3 66.1 Q 64.3 66.8, 64.3 68.3 Q 64.3 70.0, 62.6 70.6 M 58.6 66.6 L 58.6 70.1 L 60.4 70.1 Q 61.5 70.1, 62.1 69.7 Q 62.7 69.2, 62.7 68.3 Q 62.7 66.6, 60.4 66.6 L 58.6 66.6 M 60.9 75.3 Q 62.0 75.3, 62.6 74.8 Q 63.2 74.3, 63.2 73.3 Q 63.2 72.3, 62.5 71.9 Q 61.9 71.4, 60.7 71.4 L 58.6 71.4 L 58.6 75.3 L 60.9 75.3 \" fill=\"#000000\"/>\n",
       "<path class=\"legend\" d=\"M 74.5 76.6 L 73.3 73.3 L 68.8 73.3 L 67.7 76.6 L 66.1 76.6 L 70.0 65.3 L 71.9 65.3 L 76.0 76.6 L 74.5 76.6 M 69.3 72.0 L 72.8 72.0 L 71.0 66.9 L 69.3 72.0 \" fill=\"#000000\"/>\n",
       "<path class=\"legend\" d=\"M 76.8 69.6 L 84.1 69.6 L 84.1 70.8 L 76.8 70.8 L 76.8 69.6 M 76.8 73.1 L 84.1 73.1 L 84.1 74.2 L 76.8 74.2 L 76.8 73.1 \" fill=\"#000000\"/>\n",
       "<path class=\"legend\" d=\"M 86.8 75.3 L 89.3 75.3 L 89.3 66.9 L 86.6 67.7 L 86.2 66.8 L 89.7 65.2 L 90.8 65.4 L 90.8 75.3 L 93.0 75.3 L 93.0 76.6 L 86.8 76.6 L 86.8 75.3 \" fill=\"#000000\"/>\n",
       "<path class=\"legend\" d=\"M 97.8 72.0 Q 97.8 74.4, 97.2 76.2 Q 96.5 78.1, 95.2 80.2 L 94.3 79.6 Q 95.4 77.6, 95.9 75.9 Q 96.4 74.2, 96.4 72.0 Q 96.4 69.8, 95.9 68.1 Q 95.4 66.4, 94.3 64.5 L 95.2 63.9 Q 96.5 66.0, 97.2 67.9 Q 97.8 69.7, 97.8 72.0 \" fill=\"#000000\"/>\n",
       "</svg>"
      ],
      "text/plain": [
       "<IPython.core.display.SVG object>"
      ]
     },
     "execution_count": 5,
     "metadata": {},
     "output_type": "execute_result"
    }
   ],
   "source": [
    "# Find all HBA atoms in the molecule, defined by The RDKit\n",
    "HAcceptorSmarts = rdkit.Chem.MolFromSmarts(\n",
    "    \"[$([O,S;H1;v2]-[!$(*=[O,N,P,S])]),\" +\n",
    "    \"$([O,S;H0;v2]),\" +\n",
    "    \"$([O,S;-]),\" + \n",
    "    \"$([N;v3;!$(N-*=!@[O,N,P,S])]),\" +\n",
    "    \"$([nH0,o,s;+0])]\"\n",
    ")\n",
    "hba_atoms = [atom[0] for atom in mol.GetSubstructMatches(HAcceptorSmarts, uniquify=1)]\n",
    "hba = Descriptors.NumHAcceptors(mol)\n",
    "\n",
    "# Highlight nitrogen atoms in blue\n",
    "img = draw_molecule(mol,\n",
    "    legend = name + f\" (HBA={hba})\", \n",
    "    highlight_atoms = hba_atoms,\n",
    "    highlight_color = (1.0, 0.4, 0.4)\n",
    ")\n",
    "SVG(img)"
   ]
  },
  {
   "cell_type": "code",
   "execution_count": 6,
   "id": "d1cc8c78",
   "metadata": {},
   "outputs": [
    {
     "data": {
      "image/svg+xml": [
       "<svg xmlns=\"http://www.w3.org/2000/svg\" xmlns:rdkit=\"http://www.rdkit.org/xml\" xmlns:xlink=\"http://www.w3.org/1999/xlink\" version=\"1.1\" baseProfile=\"full\" xml:space=\"preserve\" width=\"102px\" height=\"84px\" viewBox=\"0 0 102 84\">\n",
       "<!-- END OF HEADER -->\n",
       "<rect style=\"opacity:1.0;fill:#FFFFFF;stroke:none\" width=\"102.0\" height=\"84.0\" x=\"0.0\" y=\"0.0\"> </rect>\n",
       "<ellipse cx=\"72.9\" cy=\"54.4\" rx=\"13.9\" ry=\"8.8\" class=\"atom-2\" style=\"fill:#66B2FF;fill-rule:evenodd;stroke:#66B2FF;stroke-width:1.0px;stroke-linecap:butt;stroke-linejoin:miter;stroke-opacity:1\"/>\n",
       "<path class=\"bond-0 atom-0 atom-1\" d=\"M 15.4,52.3 L 40.8,37.7\" style=\"fill:none;fill-rule:evenodd;stroke:#000000;stroke-width:2.0px;stroke-linecap:butt;stroke-linejoin:miter;stroke-opacity:1\"/>\n",
       "<path class=\"bond-1 atom-1 atom-2\" d=\"M 40.8,37.7 L 62.1,49.9\" style=\"fill:none;fill-rule:evenodd;stroke:#000000;stroke-width:2.0px;stroke-linecap:butt;stroke-linejoin:miter;stroke-opacity:1\"/>\n",
       "<path class=\"bond-2 atom-1 atom-3\" d=\"M 43.0,38.9 L 43.0,26.3\" style=\"fill:none;fill-rule:evenodd;stroke:#000000;stroke-width:2.0px;stroke-linecap:butt;stroke-linejoin:miter;stroke-opacity:1\"/>\n",
       "<path class=\"bond-2 atom-1 atom-3\" d=\"M 43.0,26.3 L 43.0,13.7\" style=\"fill:none;fill-rule:evenodd;stroke:#CCCC00;stroke-width:2.0px;stroke-linecap:butt;stroke-linejoin:miter;stroke-opacity:1\"/>\n",
       "<path class=\"bond-2 atom-1 atom-3\" d=\"M 38.6,38.9 L 38.6,26.3\" style=\"fill:none;fill-rule:evenodd;stroke:#000000;stroke-width:2.0px;stroke-linecap:butt;stroke-linejoin:miter;stroke-opacity:1\"/>\n",
       "<path class=\"bond-2 atom-1 atom-3\" d=\"M 38.6,26.3 L 38.6,13.7\" style=\"fill:none;fill-rule:evenodd;stroke:#CCCC00;stroke-width:2.0px;stroke-linecap:butt;stroke-linejoin:miter;stroke-opacity:1\"/>\n",
       "<path d=\"M 39.5,38.4 L 40.8,37.7 L 41.9,38.3\" style=\"fill:none;stroke:#000000;stroke-width:2.0px;stroke-linecap:butt;stroke-linejoin:miter;stroke-miterlimit:10;stroke-opacity:1;\"/>\n",
       "<path class=\"atom-2\" d=\"M 64.4 48.2 L 67.1 52.6 Q 67.3 53.0, 67.8 53.8 Q 68.2 54.6, 68.2 54.6 L 68.2 48.2 L 69.3 48.2 L 69.3 56.5 L 68.2 56.5 L 65.3 51.7 Q 64.9 51.1, 64.6 50.5 Q 64.2 49.8, 64.1 49.6 L 64.1 56.5 L 63.0 56.5 L 63.0 48.2 L 64.4 48.2 \" fill=\"#000000\"/>\n",
       "<path class=\"atom-2\" d=\"M 70.9 48.2 L 72.0 48.2 L 72.0 51.7 L 76.3 51.7 L 76.3 48.2 L 77.4 48.2 L 77.4 56.5 L 76.3 56.5 L 76.3 52.6 L 72.0 52.6 L 72.0 56.5 L 70.9 56.5 L 70.9 48.2 \" fill=\"#000000\"/>\n",
       "<path class=\"atom-2\" d=\"M 79.0 56.2 Q 79.2 55.7, 79.7 55.4 Q 80.2 55.1, 80.9 55.1 Q 81.7 55.1, 82.2 55.5 Q 82.6 56.0, 82.6 56.8 Q 82.6 57.6, 82.0 58.3 Q 81.4 59.1, 80.2 60.0 L 82.7 60.0 L 82.7 60.6 L 79.0 60.6 L 79.0 60.1 Q 80.0 59.4, 80.7 58.8 Q 81.3 58.3, 81.6 57.8 Q 81.9 57.3, 81.9 56.8 Q 81.9 56.3, 81.6 56.0 Q 81.3 55.7, 80.9 55.7 Q 80.4 55.7, 80.1 55.9 Q 79.8 56.1, 79.6 56.4 L 79.0 56.2 \" fill=\"#000000\"/>\n",
       "<path class=\"atom-3\" d=\"M 38.4 11.2 Q 38.5 11.2, 38.9 11.4 Q 39.3 11.6, 39.7 11.7 Q 40.2 11.8, 40.6 11.8 Q 41.4 11.8, 41.8 11.4 Q 42.3 11.0, 42.3 10.3 Q 42.3 9.9, 42.1 9.6 Q 41.8 9.3, 41.5 9.1 Q 41.1 9.0, 40.5 8.8 Q 39.8 8.6, 39.4 8.4 Q 38.9 8.2, 38.6 7.7 Q 38.3 7.3, 38.3 6.5 Q 38.3 5.5, 39.0 4.8 Q 39.7 4.2, 41.1 4.2 Q 42.1 4.2, 43.2 4.7 L 42.9 5.6 Q 41.9 5.1, 41.2 5.1 Q 40.4 5.1, 39.9 5.5 Q 39.5 5.8, 39.5 6.4 Q 39.5 6.8, 39.7 7.1 Q 39.9 7.4, 40.3 7.5 Q 40.6 7.7, 41.2 7.9 Q 41.9 8.1, 42.4 8.3 Q 42.8 8.6, 43.1 9.0 Q 43.5 9.5, 43.5 10.3 Q 43.5 11.5, 42.7 12.1 Q 41.9 12.7, 40.6 12.7 Q 39.9 12.7, 39.3 12.5 Q 38.8 12.4, 38.1 12.1 L 38.4 11.2 \" fill=\"#CCCC00\"/>\n",
       "<path class=\"legend\" d=\"M 8.1 67.6 L 4.6 67.6 L 4.6 66.3 L 13.0 66.3 L 13.0 67.6 L 9.7 67.6 L 9.7 77.6 L 8.1 77.6 L 8.1 67.6 \" fill=\"#000000\"/>\n",
       "<path class=\"legend\" d=\"M 13.6 73.5 Q 13.6 71.5, 14.6 70.4 Q 15.6 69.3, 17.4 69.3 Q 19.3 69.3, 20.1 70.4 Q 20.9 71.4, 20.9 73.5 L 20.9 73.7 L 15.1 73.7 Q 15.2 75.1, 15.8 75.9 Q 16.4 76.6, 17.6 76.6 Q 18.2 76.6, 18.8 76.4 Q 19.4 76.3, 20.1 76.0 L 20.6 77.0 Q 19.7 77.4, 19.0 77.6 Q 18.3 77.8, 17.5 77.8 Q 15.6 77.8, 14.6 76.7 Q 13.6 75.5, 13.6 73.5 M 17.4 70.5 Q 16.5 70.5, 15.9 71.0 Q 15.4 71.6, 15.2 72.6 L 19.3 72.6 Q 19.2 71.5, 18.7 71.0 Q 18.3 70.5, 17.4 70.5 \" fill=\"#000000\"/>\n",
       "<path class=\"legend\" d=\"M 22.6 76.0 Q 23.3 76.3, 23.8 76.4 Q 24.3 76.5, 24.9 76.5 Q 25.6 76.5, 26.0 76.2 Q 26.4 75.9, 26.4 75.3 Q 26.4 75.0, 26.2 74.8 Q 26.0 74.5, 25.7 74.4 Q 25.5 74.3, 24.7 74.0 Q 24.6 74.0, 23.9 73.8 Q 23.1 73.5, 22.7 73.0 Q 22.4 72.4, 22.4 71.6 Q 22.4 70.6, 23.1 70.0 Q 23.9 69.3, 25.4 69.3 Q 26.0 69.3, 26.6 69.4 Q 27.1 69.6, 27.7 69.8 L 27.3 71.0 Q 26.8 70.8, 26.3 70.7 Q 25.9 70.5, 25.4 70.5 Q 24.6 70.5, 24.3 70.8 Q 23.9 71.1, 23.9 71.6 Q 23.9 72.0, 24.2 72.3 Q 24.5 72.5, 25.1 72.7 Q 25.3 72.8, 25.5 72.8 L 25.9 73.0 Q 26.5 73.2, 26.9 73.4 Q 27.3 73.6, 27.6 74.1 Q 27.9 74.6, 27.9 75.3 Q 27.9 76.5, 27.1 77.2 Q 26.2 77.8, 24.9 77.8 Q 24.1 77.8, 23.4 77.6 Q 22.8 77.5, 22.1 77.2 L 22.6 76.0 \" fill=\"#000000\"/>\n",
       "<path class=\"legend\" d=\"M 29.4 70.6 L 29.4 69.4 L 30.9 69.4 L 31.2 67.0 L 32.3 67.0 L 32.3 69.4 L 34.8 69.4 L 34.8 70.6 L 32.3 70.6 L 32.3 75.1 Q 32.3 76.5, 33.5 76.5 Q 34.0 76.5, 34.7 76.3 L 35.0 77.4 Q 34.1 77.7, 33.3 77.7 Q 32.2 77.7, 31.5 77.1 Q 30.8 76.5, 30.8 75.2 L 30.8 70.6 L 29.4 70.6 \" fill=\"#000000\"/>\n",
       "<path class=\"legend\" d=\"\" fill=\"#000000\"/>\n",
       "<path class=\"legend\" d=\"M 41.9 73.1 Q 41.9 70.8, 42.6 68.9 Q 43.3 67.0, 44.5 65.0 L 45.4 65.6 Q 44.4 67.5, 43.9 69.2 Q 43.4 70.9, 43.4 73.1 Q 43.4 75.2, 43.9 77.0 Q 44.4 78.7, 45.4 80.6 L 44.5 81.2 Q 43.3 79.2, 42.6 77.3 Q 41.9 75.4, 41.9 73.1 \" fill=\"#000000\"/>\n",
       "<path class=\"legend\" d=\"M 46.5 66.3 L 48.0 66.3 L 48.0 71.1 L 53.8 71.1 L 53.8 66.3 L 55.3 66.3 L 55.3 77.6 L 53.8 77.6 L 53.8 72.4 L 48.0 72.4 L 48.0 77.6 L 46.5 77.6 L 46.5 66.3 \" fill=\"#000000\"/>\n",
       "<path class=\"legend\" d=\"M 62.8 71.7 Q 63.9 72.0, 64.4 72.7 Q 65.0 73.3, 65.0 74.3 Q 65.0 75.9, 64.0 76.8 Q 63.0 77.6, 61.1 77.6 L 57.3 77.6 L 57.3 66.3 L 60.6 66.3 Q 62.6 66.3, 63.6 67.1 Q 64.5 67.9, 64.5 69.3 Q 64.5 71.0, 62.8 71.7 M 58.8 67.6 L 58.8 71.2 L 60.6 71.2 Q 61.8 71.2, 62.3 70.7 Q 62.9 70.2, 62.9 69.3 Q 62.9 67.6, 60.6 67.6 L 58.8 67.6 M 61.1 76.4 Q 62.2 76.4, 62.8 75.8 Q 63.4 75.3, 63.4 74.3 Q 63.4 73.4, 62.7 72.9 Q 62.1 72.4, 60.9 72.4 L 58.8 72.4 L 58.8 76.4 L 61.1 76.4 \" fill=\"#000000\"/>\n",
       "<path class=\"legend\" d=\"M 70.0 66.3 Q 72.5 66.3, 73.9 67.8 Q 75.2 69.3, 75.2 72.0 Q 75.2 74.6, 73.8 76.1 Q 72.5 77.6, 70.0 77.6 L 66.3 77.6 L 66.3 66.3 L 70.0 66.3 M 70.0 76.4 Q 71.7 76.4, 72.7 75.3 Q 73.6 74.2, 73.6 72.0 Q 73.6 69.8, 72.7 68.7 Q 71.7 67.6, 70.0 67.6 L 67.9 67.6 L 67.9 76.4 L 70.0 76.4 \" fill=\"#000000\"/>\n",
       "<path class=\"legend\" d=\"M 76.5 70.7 L 83.9 70.7 L 83.9 71.8 L 76.5 71.8 L 76.5 70.7 M 76.5 74.1 L 83.9 74.1 L 83.9 75.3 L 76.5 75.3 L 76.5 74.1 \" fill=\"#000000\"/>\n",
       "<path class=\"legend\" d=\"M 86.6 76.4 L 89.0 76.4 L 89.0 67.9 L 86.3 68.8 L 85.9 67.8 L 89.4 66.3 L 90.5 66.4 L 90.5 76.4 L 92.8 76.4 L 92.8 77.6 L 86.6 77.6 L 86.6 76.4 \" fill=\"#000000\"/>\n",
       "<path class=\"legend\" d=\"M 97.6 73.1 Q 97.6 75.4, 96.9 77.3 Q 96.2 79.2, 95.0 81.2 L 94.1 80.6 Q 95.1 78.7, 95.6 77.0 Q 96.1 75.2, 96.1 73.1 Q 96.1 70.9, 95.6 69.2 Q 95.1 67.5, 94.1 65.6 L 95.0 65.0 Q 96.2 67.0, 96.9 68.9 Q 97.6 70.8, 97.6 73.1 \" fill=\"#000000\"/>\n",
       "</svg>"
      ],
      "text/plain": [
       "<IPython.core.display.SVG object>"
      ]
     },
     "execution_count": 6,
     "metadata": {},
     "output_type": "execute_result"
    }
   ],
   "source": [
    "# Find all HBD atoms in the molecule, defined by The RDKit\n",
    "HDonorSmarts = rdkit.Chem.MolFromSmarts(\n",
    "    \"[$([N;!H0;v3]),\" +\n",
    "    \"$([N;!H0;+1;v4]),\" + \n",
    "    \"$([O,S;H1;+0]),\" +\n",
    "    \"$([n;H1;+0])]\"\n",
    ")\n",
    "hbd_atoms = [atom[0] for atom in mol.GetSubstructMatches(HDonorSmarts, uniquify=1)]\n",
    "hbd = Descriptors.NumHDonors(mol)\n",
    "\n",
    "# Highlight nitrogen atoms in blue\n",
    "img = draw_molecule(mol,\n",
    "    legend = name + f\" (HBD={hbd})\", \n",
    "    highlight_atoms = hbd_atoms,\n",
    "    highlight_color = (0.4, 0.7, 1.0)\n",
    ")\n",
    "SVG(img)"
   ]
  },
  {
   "cell_type": "code",
   "execution_count": 22,
   "id": "74704dcb",
   "metadata": {},
   "outputs": [
    {
     "data": {
      "image/svg+xml": [
       "<svg xmlns=\"http://www.w3.org/2000/svg\" xmlns:rdkit=\"http://www.rdkit.org/xml\" xmlns:xlink=\"http://www.w3.org/1999/xlink\" version=\"1.1\" baseProfile=\"full\" xml:space=\"preserve\" width=\"102px\" height=\"83px\" viewBox=\"0 0 102 83\">\n",
       "<!-- END OF HEADER -->\n",
       "<rect style=\"opacity:1.0;fill:#FFFFFF;stroke:none\" width=\"102.0\" height=\"83.0\" x=\"0.0\" y=\"0.0\"> </rect>\n",
       "<ellipse cx=\"43.4\" cy=\"10.2\" rx=\"5.8\" ry=\"6.0\" class=\"atom-3\" style=\"fill:#FF6666;fill-rule:evenodd;stroke:#FF6666;stroke-width:1.0px;stroke-linecap:butt;stroke-linejoin:miter;stroke-opacity:1\"/>\n",
       "<path class=\"bond-0 atom-0 atom-1\" d=\"M 18.1,53.8 L 43.4,39.2\" style=\"fill:none;fill-rule:evenodd;stroke:#000000;stroke-width:2.0px;stroke-linecap:butt;stroke-linejoin:miter;stroke-opacity:1\"/>\n",
       "<path class=\"bond-1 atom-1 atom-2\" d=\"M 43.4,39.2 L 54.0,45.4\" style=\"fill:none;fill-rule:evenodd;stroke:#000000;stroke-width:2.0px;stroke-linecap:butt;stroke-linejoin:miter;stroke-opacity:1\"/>\n",
       "<path class=\"bond-1 atom-1 atom-2\" d=\"M 54.0,45.4 L 64.5,51.5\" style=\"fill:none;fill-rule:evenodd;stroke:#0000FF;stroke-width:2.0px;stroke-linecap:butt;stroke-linejoin:miter;stroke-opacity:1\"/>\n",
       "<path class=\"bond-2 atom-1 atom-3\" d=\"M 45.6,40.5 L 45.6,15.4\" style=\"fill:none;fill-rule:evenodd;stroke:#000000;stroke-width:2.0px;stroke-linecap:butt;stroke-linejoin:miter;stroke-opacity:1\"/>\n",
       "<path class=\"bond-2 atom-1 atom-3\" d=\"M 41.2,40.5 L 41.2,15.4\" style=\"fill:none;fill-rule:evenodd;stroke:#000000;stroke-width:2.0px;stroke-linecap:butt;stroke-linejoin:miter;stroke-opacity:1\"/>\n",
       "<path d=\"M 42.1,40.0 L 43.4,39.2 L 43.9,39.6\" style=\"fill:none;stroke:#000000;stroke-width:2.0px;stroke-linecap:butt;stroke-linejoin:miter;stroke-miterlimit:10;stroke-opacity:1;\"/>\n",
       "<path class=\"atom-2\" d=\"M 66.8 49.7 L 69.5 54.1 Q 69.8 54.5, 70.2 55.3 Q 70.7 56.1, 70.7 56.1 L 70.7 49.7 L 71.8 49.7 L 71.8 58.0 L 70.6 58.0 L 67.7 53.2 Q 67.4 52.6, 67.0 52.0 Q 66.7 51.3, 66.6 51.1 L 66.6 58.0 L 65.5 58.0 L 65.5 49.7 L 66.8 49.7 \" fill=\"#0000FF\"/>\n",
       "<path class=\"atom-2\" d=\"M 73.4 49.7 L 74.5 49.7 L 74.5 53.2 L 78.7 53.2 L 78.7 49.7 L 79.8 49.7 L 79.8 58.0 L 78.7 58.0 L 78.7 54.2 L 74.5 54.2 L 74.5 58.0 L 73.4 58.0 L 73.4 49.7 \" fill=\"#0000FF\"/>\n",
       "<path class=\"atom-2\" d=\"M 81.4 57.7 Q 81.6 57.2, 82.1 56.9 Q 82.6 56.6, 83.3 56.6 Q 84.1 56.6, 84.5 57.0 Q 85.0 57.5, 85.0 58.3 Q 85.0 59.1, 84.4 59.8 Q 83.8 60.6, 82.6 61.5 L 85.1 61.5 L 85.1 62.1 L 81.4 62.1 L 81.4 61.6 Q 82.4 60.9, 83.0 60.3 Q 83.7 59.8, 83.9 59.3 Q 84.2 58.8, 84.2 58.3 Q 84.2 57.8, 84.0 57.5 Q 83.7 57.2, 83.3 57.2 Q 82.8 57.2, 82.5 57.4 Q 82.2 57.6, 82.0 58.0 L 81.4 57.7 \" fill=\"#0000FF\"/>\n",
       "<path class=\"atom-3\" d=\"M 41.0 12.9 Q 41.1 12.9, 41.5 13.1 Q 41.9 13.3, 42.3 13.4 Q 42.8 13.5, 43.2 13.5 Q 44.0 13.5, 44.4 13.1 Q 44.9 12.7, 44.9 12.0 Q 44.9 11.6, 44.6 11.3 Q 44.4 11.0, 44.1 10.9 Q 43.7 10.7, 43.1 10.5 Q 42.4 10.3, 41.9 10.1 Q 41.5 9.9, 41.2 9.5 Q 40.9 9.0, 40.9 8.3 Q 40.9 7.2, 41.6 6.6 Q 42.3 5.9, 43.7 5.9 Q 44.7 5.9, 45.8 6.4 L 45.5 7.3 Q 44.5 6.9, 43.7 6.9 Q 42.9 6.9, 42.5 7.2 Q 42.1 7.6, 42.1 8.1 Q 42.1 8.6, 42.3 8.8 Q 42.5 9.1, 42.8 9.3 Q 43.2 9.4, 43.7 9.6 Q 44.5 9.8, 44.9 10.1 Q 45.4 10.3, 45.7 10.8 Q 46.0 11.2, 46.0 12.0 Q 46.0 13.2, 45.3 13.8 Q 44.5 14.4, 43.2 14.4 Q 42.5 14.4, 41.9 14.2 Q 41.4 14.1, 40.7 13.8 L 41.0 12.9 \" fill=\"#000000\"/>\n",
       "<path class=\"legend\" d=\"M 7.9 66.6 L 4.4 66.6 L 4.4 65.3 L 12.7 65.3 L 12.7 66.6 L 9.4 66.6 L 9.4 76.6 L 7.9 76.6 L 7.9 66.6 \" fill=\"#000000\"/>\n",
       "<path class=\"legend\" d=\"M 13.3 72.5 Q 13.3 70.5, 14.3 69.4 Q 15.3 68.2, 17.2 68.2 Q 19.0 68.2, 19.8 69.3 Q 20.6 70.4, 20.6 72.4 L 20.6 72.7 L 14.9 72.7 Q 14.9 74.1, 15.5 74.8 Q 16.1 75.5, 17.3 75.5 Q 18.0 75.5, 18.5 75.4 Q 19.1 75.2, 19.9 74.9 L 20.3 75.9 Q 19.5 76.4, 18.7 76.6 Q 18.0 76.7, 17.2 76.7 Q 15.4 76.7, 14.4 75.6 Q 13.3 74.5, 13.3 72.5 M 17.2 69.4 Q 16.2 69.4, 15.7 70.0 Q 15.1 70.5, 14.9 71.6 L 19.0 71.6 Q 18.9 70.5, 18.5 69.9 Q 18.0 69.4, 17.2 69.4 \" fill=\"#000000\"/>\n",
       "<path class=\"legend\" d=\"M 22.3 74.9 Q 23.0 75.2, 23.5 75.4 Q 24.1 75.5, 24.6 75.5 Q 25.3 75.5, 25.7 75.2 Q 26.2 74.9, 26.2 74.3 Q 26.2 73.9, 25.9 73.7 Q 25.7 73.5, 25.5 73.4 Q 25.2 73.2, 24.5 73.0 Q 24.4 73.0, 23.6 72.7 Q 22.9 72.5, 22.5 71.9 Q 22.1 71.4, 22.1 70.6 Q 22.1 69.6, 22.9 68.9 Q 23.6 68.2, 25.1 68.2 Q 25.8 68.2, 26.3 68.4 Q 26.9 68.5, 27.5 68.8 L 27.1 69.9 Q 26.5 69.7, 26.1 69.6 Q 25.6 69.5, 25.1 69.5 Q 24.4 69.5, 24.0 69.8 Q 23.6 70.1, 23.6 70.6 Q 23.6 71.0, 23.9 71.2 Q 24.2 71.4, 24.9 71.7 Q 25.1 71.7, 25.2 71.8 L 25.6 71.9 Q 26.3 72.2, 26.7 72.4 Q 27.1 72.6, 27.4 73.1 Q 27.7 73.5, 27.7 74.3 Q 27.7 75.4, 26.8 76.1 Q 26.0 76.7, 24.6 76.7 Q 23.9 76.7, 23.2 76.6 Q 22.5 76.4, 21.8 76.1 L 22.3 74.9 \" fill=\"#000000\"/>\n",
       "<path class=\"legend\" d=\"M 29.1 69.5 L 29.1 68.4 L 30.7 68.4 L 31.0 66.0 L 32.1 66.0 L 32.1 68.4 L 34.6 68.4 L 34.6 69.5 L 32.1 69.5 L 32.1 74.1 Q 32.1 75.5, 33.3 75.5 Q 33.8 75.5, 34.5 75.3 L 34.7 76.3 Q 33.8 76.7, 33.0 76.7 Q 31.9 76.7, 31.2 76.1 Q 30.6 75.4, 30.6 74.2 L 30.6 69.5 L 29.1 69.5 \" fill=\"#000000\"/>\n",
       "<path class=\"legend\" d=\"\" fill=\"#000000\"/>\n",
       "<path class=\"legend\" d=\"M 41.7 72.0 Q 41.7 69.7, 42.4 67.9 Q 43.0 66.0, 44.3 63.9 L 45.2 64.5 Q 44.2 66.4, 43.6 68.1 Q 43.1 69.8, 43.1 72.0 Q 43.1 74.2, 43.6 75.9 Q 44.2 77.6, 45.2 79.6 L 44.3 80.2 Q 43.0 78.1, 42.4 76.2 Q 41.7 74.4, 41.7 72.0 \" fill=\"#000000\"/>\n",
       "<path class=\"legend\" d=\"M 46.2 65.3 L 47.8 65.3 L 47.8 70.1 L 53.6 70.1 L 53.6 65.3 L 55.1 65.3 L 55.1 76.6 L 53.6 76.6 L 53.6 71.4 L 47.8 71.4 L 47.8 76.6 L 46.2 76.6 L 46.2 65.3 \" fill=\"#000000\"/>\n",
       "<path class=\"legend\" d=\"M 62.6 70.6 Q 63.7 71.0, 64.2 71.6 Q 64.8 72.3, 64.8 73.3 Q 64.8 74.8, 63.8 75.7 Q 62.8 76.6, 60.9 76.6 L 57.1 76.6 L 57.1 65.3 L 60.4 65.3 Q 62.4 65.3, 63.3 66.1 Q 64.3 66.8, 64.3 68.3 Q 64.3 70.0, 62.6 70.6 M 58.6 66.6 L 58.6 70.1 L 60.4 70.1 Q 61.5 70.1, 62.1 69.7 Q 62.7 69.2, 62.7 68.3 Q 62.7 66.6, 60.4 66.6 L 58.6 66.6 M 60.9 75.3 Q 62.0 75.3, 62.6 74.8 Q 63.2 74.3, 63.2 73.3 Q 63.2 72.3, 62.5 71.9 Q 61.9 71.4, 60.7 71.4 L 58.6 71.4 L 58.6 75.3 L 60.9 75.3 \" fill=\"#000000\"/>\n",
       "<path class=\"legend\" d=\"M 74.5 76.6 L 73.3 73.3 L 68.8 73.3 L 67.7 76.6 L 66.1 76.6 L 70.0 65.3 L 71.9 65.3 L 76.0 76.6 L 74.5 76.6 M 69.3 72.0 L 72.8 72.0 L 71.0 66.9 L 69.3 72.0 \" fill=\"#000000\"/>\n",
       "<path class=\"legend\" d=\"M 76.8 69.6 L 84.1 69.6 L 84.1 70.8 L 76.8 70.8 L 76.8 69.6 M 76.8 73.1 L 84.1 73.1 L 84.1 74.2 L 76.8 74.2 L 76.8 73.1 \" fill=\"#000000\"/>\n",
       "<path class=\"legend\" d=\"M 86.8 75.3 L 89.3 75.3 L 89.3 66.9 L 86.6 67.7 L 86.2 66.8 L 89.7 65.2 L 90.8 65.4 L 90.8 75.3 L 93.0 75.3 L 93.0 76.6 L 86.8 76.6 L 86.8 75.3 \" fill=\"#000000\"/>\n",
       "<path class=\"legend\" d=\"M 97.8 72.0 Q 97.8 74.4, 97.2 76.2 Q 96.5 78.1, 95.2 80.2 L 94.3 79.6 Q 95.4 77.6, 95.9 75.9 Q 96.4 74.2, 96.4 72.0 Q 96.4 69.8, 95.9 68.1 Q 95.4 66.4, 94.3 64.5 L 95.2 63.9 Q 96.5 66.0, 97.2 67.9 Q 97.8 69.7, 97.8 72.0 \" fill=\"#000000\"/>\n",
       "</svg>"
      ],
      "text/plain": [
       "<IPython.core.display.SVG object>"
      ]
     },
     "execution_count": 22,
     "metadata": {},
     "output_type": "execute_result"
    }
   ],
   "source": [
    "# Link: https://docs.eyesopen.com/python_modules/cookbook/cheminfo/acceptor-donor.html\n",
    "# Link: https://docs.eyesopen.com/toolkits/python/molproptk/OEMolPropFunctions/OEGetHBondAcceptorCount.html\n",
    "# Find all HBA atoms in the molecule, defined by OpenEye (SMARTS representation of ROCS, Journal of Computer-Aided Molecular Design, Vol. 10, pp. 607, 1996.)\n",
    "HAcceptorSmarts = rdkit.Chem.MolFromSmarts(\n",
    "    \"[$([#8&!$(*~N~[OD1])]),\" +\n",
    "    \"$([#7&H0;!$([D4]);!$([D3]-*=,:[$([#7,#8,#15,#16])])]),\" +\n",
    "    \"$([#16])]\"\n",
    ")\n",
    "hba_atoms = [atom[0] for atom in mol.GetSubstructMatches(HAcceptorSmarts, uniquify=1)]\n",
    "hba = len(hba_atoms)\n",
    "\n",
    "# Highlight nitrogen atoms in blue\n",
    "img = draw_molecule(mol,\n",
    "    legend = name + f\" (HBA={hba})\", \n",
    "    highlight_atoms = hba_atoms,\n",
    "    highlight_color = (1.0, 0.4, 0.4)\n",
    ")\n",
    "SVG(img)"
   ]
  },
  {
   "cell_type": "code",
   "execution_count": 8,
   "id": "5b66e45f",
   "metadata": {},
   "outputs": [
    {
     "data": {
      "image/svg+xml": [
       "<svg xmlns=\"http://www.w3.org/2000/svg\" xmlns:rdkit=\"http://www.rdkit.org/xml\" xmlns:xlink=\"http://www.w3.org/1999/xlink\" version=\"1.1\" baseProfile=\"full\" xml:space=\"preserve\" width=\"104px\" height=\"81px\" viewBox=\"0 0 104 81\">\n",
       "<!-- END OF HEADER -->\n",
       "<rect style=\"opacity:1.0;fill:#FFFFFF;stroke:none\" width=\"104.0\" height=\"81.0\" x=\"0.0\" y=\"0.0\"> </rect>\n",
       "<path class=\"bond-0 atom-0 atom-1\" d=\"M 18.8,51.8 L 44.0,37.3\" style=\"fill:none;fill-rule:evenodd;stroke:#000000;stroke-width:2.0px;stroke-linecap:butt;stroke-linejoin:miter;stroke-opacity:1\"/>\n",
       "<path class=\"bond-1 atom-1 atom-2\" d=\"M 44.0,37.3 L 54.6,43.4\" style=\"fill:none;fill-rule:evenodd;stroke:#000000;stroke-width:2.0px;stroke-linecap:butt;stroke-linejoin:miter;stroke-opacity:1\"/>\n",
       "<path class=\"bond-1 atom-1 atom-2\" d=\"M 54.6,43.4 L 65.1,49.5\" style=\"fill:none;fill-rule:evenodd;stroke:#0000FF;stroke-width:2.0px;stroke-linecap:butt;stroke-linejoin:miter;stroke-opacity:1\"/>\n",
       "<path class=\"bond-2 atom-1 atom-3\" d=\"M 46.2,38.5 L 46.2,26.0\" style=\"fill:none;fill-rule:evenodd;stroke:#000000;stroke-width:2.0px;stroke-linecap:butt;stroke-linejoin:miter;stroke-opacity:1\"/>\n",
       "<path class=\"bond-2 atom-1 atom-3\" d=\"M 46.2,26.0 L 46.2,13.4\" style=\"fill:none;fill-rule:evenodd;stroke:#CCCC00;stroke-width:2.0px;stroke-linecap:butt;stroke-linejoin:miter;stroke-opacity:1\"/>\n",
       "<path class=\"bond-2 atom-1 atom-3\" d=\"M 41.8,38.5 L 41.8,26.0\" style=\"fill:none;fill-rule:evenodd;stroke:#000000;stroke-width:2.0px;stroke-linecap:butt;stroke-linejoin:miter;stroke-opacity:1\"/>\n",
       "<path class=\"bond-2 atom-1 atom-3\" d=\"M 41.8,26.0 L 41.8,13.4\" style=\"fill:none;fill-rule:evenodd;stroke:#CCCC00;stroke-width:2.0px;stroke-linecap:butt;stroke-linejoin:miter;stroke-opacity:1\"/>\n",
       "<path d=\"M 42.7,38.0 L 44.0,37.3 L 44.5,37.6\" style=\"fill:none;stroke:#000000;stroke-width:2.0px;stroke-linecap:butt;stroke-linejoin:miter;stroke-miterlimit:10;stroke-opacity:1;\"/>\n",
       "<path class=\"atom-2\" d=\"M 67.4 47.7 L 70.1 52.1 Q 70.3 52.5, 70.8 53.3 Q 71.2 54.0, 71.2 54.1 L 71.2 47.7 L 72.3 47.7 L 72.3 55.9 L 71.2 55.9 L 68.3 51.2 Q 68.0 50.6, 67.6 50.0 Q 67.2 49.3, 67.1 49.1 L 67.1 55.9 L 66.1 55.9 L 66.1 47.7 L 67.4 47.7 \" fill=\"#0000FF\"/>\n",
       "<path class=\"atom-2\" d=\"M 73.9 47.7 L 75.0 47.7 L 75.0 51.2 L 79.2 51.2 L 79.2 47.7 L 80.3 47.7 L 80.3 55.9 L 79.2 55.9 L 79.2 52.1 L 75.0 52.1 L 75.0 55.9 L 73.9 55.9 L 73.9 47.7 \" fill=\"#0000FF\"/>\n",
       "<path class=\"atom-2\" d=\"M 82.0 55.6 Q 82.2 55.1, 82.6 54.8 Q 83.1 54.5, 83.8 54.5 Q 84.6 54.5, 85.1 55.0 Q 85.5 55.4, 85.5 56.2 Q 85.5 57.0, 84.9 57.8 Q 84.3 58.5, 83.1 59.4 L 85.6 59.4 L 85.6 60.0 L 81.9 60.0 L 81.9 59.5 Q 83.0 58.8, 83.6 58.3 Q 84.2 57.7, 84.5 57.3 Q 84.7 56.8, 84.7 56.3 Q 84.7 55.7, 84.5 55.5 Q 84.2 55.2, 83.8 55.2 Q 83.3 55.2, 83.0 55.3 Q 82.7 55.5, 82.5 55.9 L 82.0 55.6 \" fill=\"#0000FF\"/>\n",
       "<path class=\"atom-3\" d=\"M 41.7 11.0 Q 41.8 11.0, 42.1 11.2 Q 42.5 11.3, 42.9 11.5 Q 43.4 11.5, 43.8 11.5 Q 44.6 11.5, 45.0 11.2 Q 45.5 10.8, 45.5 10.1 Q 45.5 9.7, 45.3 9.4 Q 45.0 9.1, 44.7 9.0 Q 44.3 8.8, 43.8 8.6 Q 43.0 8.4, 42.6 8.2 Q 42.1 8.0, 41.8 7.6 Q 41.5 7.1, 41.5 6.4 Q 41.5 5.3, 42.2 4.7 Q 42.9 4.0, 44.3 4.0 Q 45.3 4.0, 46.4 4.5 L 46.1 5.4 Q 45.1 5.0, 44.4 5.0 Q 43.6 5.0, 43.1 5.3 Q 42.7 5.7, 42.7 6.2 Q 42.7 6.7, 42.9 6.9 Q 43.1 7.2, 43.5 7.4 Q 43.8 7.5, 44.4 7.7 Q 45.1 7.9, 45.6 8.1 Q 46.0 8.4, 46.3 8.9 Q 46.6 9.3, 46.6 10.1 Q 46.6 11.3, 45.9 11.9 Q 45.1 12.5, 43.8 12.5 Q 43.1 12.5, 42.6 12.3 Q 42.0 12.2, 41.4 11.9 L 41.7 11.0 \" fill=\"#CCCC00\"/>\n",
       "<path class=\"legend\" d=\"M 8.3 64.5 L 4.7 64.5 L 4.7 63.2 L 13.1 63.2 L 13.1 64.5 L 9.8 64.5 L 9.8 74.5 L 8.3 74.5 L 8.3 64.5 \" fill=\"#000000\"/>\n",
       "<path class=\"legend\" d=\"M 13.7 70.4 Q 13.7 68.4, 14.7 67.2 Q 15.7 66.1, 17.6 66.1 Q 19.4 66.1, 20.2 67.2 Q 21.0 68.3, 21.0 70.3 L 21.0 70.6 L 15.3 70.6 Q 15.3 72.0, 15.9 72.7 Q 16.5 73.4, 17.7 73.4 Q 18.3 73.4, 18.9 73.3 Q 19.5 73.1, 20.3 72.8 L 20.7 73.8 Q 19.9 74.3, 19.1 74.5 Q 18.4 74.6, 17.6 74.6 Q 15.8 74.6, 14.7 73.5 Q 13.7 72.4, 13.7 70.4 M 17.6 67.3 Q 16.6 67.3, 16.1 67.9 Q 15.5 68.4, 15.3 69.5 L 19.4 69.5 Q 19.3 68.4, 18.9 67.8 Q 18.4 67.3, 17.6 67.3 \" fill=\"#000000\"/>\n",
       "<path class=\"legend\" d=\"M 22.7 72.8 Q 23.4 73.1, 23.9 73.2 Q 24.5 73.4, 25.0 73.4 Q 25.7 73.4, 26.1 73.1 Q 26.6 72.8, 26.6 72.2 Q 26.6 71.8, 26.3 71.6 Q 26.1 71.4, 25.9 71.2 Q 25.6 71.1, 24.9 70.9 Q 24.8 70.9, 24.0 70.6 Q 23.3 70.4, 22.9 69.8 Q 22.5 69.3, 22.5 68.5 Q 22.5 67.5, 23.3 66.8 Q 24.0 66.1, 25.5 66.1 Q 26.2 66.1, 26.7 66.3 Q 27.3 66.4, 27.9 66.7 L 27.5 67.8 Q 26.9 67.6, 26.5 67.5 Q 26.0 67.4, 25.5 67.4 Q 24.8 67.4, 24.4 67.7 Q 24.0 68.0, 24.0 68.5 Q 24.0 68.9, 24.3 69.1 Q 24.6 69.3, 25.3 69.6 Q 25.5 69.6, 25.6 69.7 L 26.0 69.8 Q 26.7 70.1, 27.1 70.3 Q 27.5 70.5, 27.8 71.0 Q 28.1 71.4, 28.1 72.2 Q 28.1 73.3, 27.2 74.0 Q 26.4 74.6, 25.0 74.6 Q 24.3 74.6, 23.6 74.5 Q 22.9 74.3, 22.2 74.0 L 22.7 72.8 \" fill=\"#000000\"/>\n",
       "<path class=\"legend\" d=\"M 29.5 67.4 L 29.5 66.3 L 31.1 66.3 L 31.4 63.9 L 32.5 63.9 L 32.5 66.3 L 35.0 66.3 L 35.0 67.4 L 32.5 67.4 L 32.5 72.0 Q 32.5 73.4, 33.7 73.4 Q 34.2 73.4, 34.9 73.2 L 35.1 74.2 Q 34.2 74.6, 33.4 74.6 Q 32.3 74.6, 31.6 74.0 Q 31.0 73.3, 31.0 72.1 L 31.0 67.4 L 29.5 67.4 \" fill=\"#000000\"/>\n",
       "<path class=\"legend\" d=\"\" fill=\"#000000\"/>\n",
       "<path class=\"legend\" d=\"M 42.1 69.9 Q 42.1 67.6, 42.8 65.8 Q 43.4 63.9, 44.7 61.8 L 45.6 62.4 Q 44.6 64.3, 44.1 66.0 Q 43.5 67.7, 43.5 69.9 Q 43.5 72.1, 44.1 73.8 Q 44.6 75.5, 45.6 77.5 L 44.7 78.1 Q 43.4 76.0, 42.8 74.1 Q 42.1 72.3, 42.1 69.9 \" fill=\"#000000\"/>\n",
       "<path class=\"legend\" d=\"M 46.7 63.2 L 48.2 63.2 L 48.2 68.0 L 54.0 68.0 L 54.0 63.2 L 55.5 63.2 L 55.5 74.5 L 54.0 74.5 L 54.0 69.3 L 48.2 69.3 L 48.2 74.5 L 46.7 74.5 L 46.7 63.2 \" fill=\"#000000\"/>\n",
       "<path class=\"legend\" d=\"M 63.0 68.5 Q 64.1 68.9, 64.6 69.5 Q 65.2 70.2, 65.2 71.2 Q 65.2 72.7, 64.2 73.6 Q 63.2 74.5, 61.3 74.5 L 57.5 74.5 L 57.5 63.2 L 60.8 63.2 Q 62.8 63.2, 63.8 64.0 Q 64.7 64.7, 64.7 66.2 Q 64.7 67.9, 63.0 68.5 M 59.0 64.5 L 59.0 68.0 L 60.8 68.0 Q 62.0 68.0, 62.5 67.6 Q 63.1 67.1, 63.1 66.2 Q 63.1 64.5, 60.8 64.5 L 59.0 64.5 M 61.3 73.2 Q 62.4 73.2, 63.0 72.7 Q 63.6 72.2, 63.6 71.2 Q 63.6 70.2, 62.9 69.8 Q 62.3 69.3, 61.1 69.3 L 59.0 69.3 L 59.0 73.2 L 61.3 73.2 \" fill=\"#000000\"/>\n",
       "<path class=\"legend\" d=\"M 70.2 63.2 Q 72.7 63.2, 74.1 64.7 Q 75.4 66.1, 75.4 68.8 Q 75.4 71.5, 74.1 73.0 Q 72.7 74.5, 70.2 74.5 L 66.6 74.5 L 66.6 63.2 L 70.2 63.2 M 70.2 73.2 Q 72.0 73.2, 72.9 72.1 Q 73.8 71.0, 73.8 68.8 Q 73.8 66.6, 72.9 65.5 Q 72.0 64.5, 70.2 64.5 L 68.1 64.5 L 68.1 73.2 L 70.2 73.2 \" fill=\"#000000\"/>\n",
       "<path class=\"legend\" d=\"M 76.8 67.5 L 84.1 67.5 L 84.1 68.7 L 76.8 68.7 L 76.8 67.5 M 76.8 71.0 L 84.1 71.0 L 84.1 72.1 L 76.8 72.1 L 76.8 71.0 \" fill=\"#000000\"/>\n",
       "<path class=\"legend\" d=\"M 90.3 74.6 Q 88.2 74.6, 87.2 73.1 Q 86.2 71.6, 86.2 68.8 Q 86.2 66.1, 87.2 64.6 Q 88.2 63.0, 90.3 63.0 Q 92.4 63.0, 93.4 64.6 Q 94.5 66.1, 94.5 68.8 Q 94.5 71.6, 93.4 73.1 Q 92.4 74.6, 90.3 74.6 M 90.3 73.3 Q 91.6 73.3, 92.2 72.2 Q 92.9 71.1, 92.9 68.8 Q 92.9 66.6, 92.2 65.5 Q 91.6 64.3, 90.3 64.3 Q 89.1 64.3, 88.4 65.5 Q 87.8 66.6, 87.8 68.8 Q 87.8 71.1, 88.4 72.2 Q 89.1 73.3, 90.3 73.3 \" fill=\"#000000\"/>\n",
       "<path class=\"legend\" d=\"M 99.7 69.9 Q 99.7 72.3, 99.0 74.1 Q 98.3 76.0, 97.0 78.1 L 96.1 77.5 Q 97.2 75.5, 97.7 73.8 Q 98.2 72.1, 98.2 69.9 Q 98.2 67.7, 97.7 66.0 Q 97.2 64.3, 96.1 62.4 L 97.0 61.8 Q 98.3 63.9, 99.0 65.8 Q 99.7 67.6, 99.7 69.9 \" fill=\"#000000\"/>\n",
       "</svg>"
      ],
      "text/plain": [
       "<IPython.core.display.SVG object>"
      ]
     },
     "execution_count": 8,
     "metadata": {},
     "output_type": "execute_result"
    }
   ],
   "source": [
    "# Link: https://docs.eyesopen.com/toolkits/python/molproptk/OEMolPropFunctions/OEGetHBondDonorCount.html\n",
    "# Find all HBD atoms in the molecule, defined by OpenEye (SMARTS representation of ROCS, Journal of Computer-Aided Molecular Design, Vol. 10, pp. 607, 1996.)\n",
    "HDonorSmarts = rdkit.Chem.MolFromSmarts(\"[$([#7,#8,#15,#16]);H]\")\n",
    "hbd_atoms = [atom[0] for atom in mol.GetSubstructMatches(HDonorSmarts, uniquify=1)]\n",
    "hbd = len(hbd_atoms)\n",
    "\n",
    "# Highlight nitrogen atoms in blue\n",
    "img = draw_molecule(mol,\n",
    "    legend = name + f\" (HBD={hbd})\", \n",
    "    highlight_atoms = hbd_atoms,\n",
    "    highlight_color = (0.4, 0.7, 1.0)\n",
    ")\n",
    "SVG(img)"
   ]
  },
  {
   "cell_type": "code",
   "execution_count": null,
   "id": "6a584923",
   "metadata": {},
   "outputs": [],
   "source": []
  }
 ],
 "metadata": {
  "kernelspec": {
   "display_name": "rdkit-env",
   "language": "python",
   "name": "python3"
  },
  "language_info": {
   "codemirror_mode": {
    "name": "ipython",
    "version": 3
   },
   "file_extension": ".py",
   "mimetype": "text/x-python",
   "name": "python",
   "nbconvert_exporter": "python",
   "pygments_lexer": "ipython3",
   "version": "3.13.7"
  }
 },
 "nbformat": 4,
 "nbformat_minor": 5
}
