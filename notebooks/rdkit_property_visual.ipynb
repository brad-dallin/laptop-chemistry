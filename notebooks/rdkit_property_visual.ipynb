{
 "cells": [
  {
   "cell_type": "code",
   "execution_count": 1,
   "id": "74acfe28",
   "metadata": {},
   "outputs": [
    {
     "name": "stdout",
     "output_type": "stream",
     "text": [
      "RDKit Version: 2025.03.6\n"
     ]
    }
   ],
   "source": [
    "# Import modules\n",
    "import rdkit\n",
    "from notebook_utils import draw_molecule_acs1996\n",
    "\n",
    "# Suppress RDKit Output\n",
    "rdkit.RDLogger.DisableLog('rdApp.*')\n",
    "\n",
    "# Print versions\n",
    "print(f\"RDKit Version: {rdkit.__version__}\")"
   ]
  },
  {
   "cell_type": "code",
   "execution_count": null,
   "id": "ad23ccf2",
   "metadata": {},
   "outputs": [
    {
     "data": {
      "image/jpeg": "[encoded data removed]",
      "image/png": "[encoded data removed]",
      "text/plain": [
       "<PIL.PngImagePlugin.PngImageFile image mode=RGB size=129x83>"
      ]
     },
     "metadata": {},
     "output_type": "display_data"
    }
   ],
   "source": [
    "smiles = \"C1CC2=C(C=CC(=C2)O)[C@H]([C@H]1C3=CC=CC=C3)C4=CC=C(C=C4)N5CCC(CC5)CN6CCN(CC6)C7=CC8=C(C=C7)C(=O)N(C8)[C@H]9CCC(=O)NC9=O\"\n",
    "mol = rdkit.Chem.MolFromSmiles(smiles)\n",
    "\n",
    "# Find all nitrogen atoms in the molecule\n",
    "nitrogen_atoms = [atom.GetIdx() for atom in mol.GetAtoms() if atom.GetAtomicNum() == 7]\n",
    "\n",
    "# Highlight nitrogen atoms in blue\n",
    "img = draw_molecule_acs1996(mol, \n",
    "                  legend=\"Vepdegestrant\", \n",
    "                  highlight_atoms=nitrogen_atoms,\n",
    "                  highlight_color=(1, 1, 0.7))\n",
    "display(img)"
   ]
  },
  {
   "cell_type": "code",
   "execution_count": 3,
   "id": "b86bcb97",
   "metadata": {},
   "outputs": [
    {
     "ename": "AttributeError",
     "evalue": "module 'rdkit.Chem' has no attribute 'Descriptors'",
     "output_type": "error",
     "traceback": [
      "\u001b[31m---------------------------------------------------------------------------\u001b[39m",
      "\u001b[31mAttributeError\u001b[39m                            Traceback (most recent call last)",
      "\u001b[36mCell\u001b[39m\u001b[36m \u001b[39m\u001b[32mIn[3]\u001b[39m\u001b[32m, line 5\u001b[39m\n\u001b[32m      1\u001b[39m \u001b[38;5;66;03m# Calculate all RDKit descriptors\u001b[39;00m\n\u001b[32m      2\u001b[39m descriptors = {\n\u001b[32m      3\u001b[39m     \u001b[33m\"\u001b[39m\u001b[33mSMILES\u001b[39m\u001b[33m\"\u001b[39m: rdkit.Chem.MolToSmiles(mol),\n\u001b[32m      4\u001b[39m }\n\u001b[32m----> \u001b[39m\u001b[32m5\u001b[39m \u001b[38;5;28;01mfor\u001b[39;00m descriptor, fxn \u001b[38;5;129;01min\u001b[39;00m \u001b[43mrdkit\u001b[49m\u001b[43m.\u001b[49m\u001b[43mChem\u001b[49m\u001b[43m.\u001b[49m\u001b[43mDescriptors\u001b[49m._descList:\n\u001b[32m      6\u001b[39m     \u001b[38;5;28;01mtry\u001b[39;00m:\n\u001b[32m      7\u001b[39m         value = fxn(mol)\n",
      "\u001b[31mAttributeError\u001b[39m: module 'rdkit.Chem' has no attribute 'Descriptors'"
     ]
    }
   ],
   "source": [
    "# Calculate all RDKit descriptors\n",
    "descriptors = {\n",
    "    \"SMILES\": rdkit.Chem.MolToSmiles(mol),\n",
    "}\n",
    "for descriptor, fxn in rdkit.Chem.Descriptors._descList:\n",
    "    try:\n",
    "        value = fxn(mol)\n",
    "    except Exception as e:\n",
    "        value = None\n",
    "    descriptors[f\"{descriptor}\"] = value\n",
    "descriptors"
   ]
  }
 ],
 "metadata": {
  "kernelspec": {
   "display_name": "rdkit-env",
   "language": "python",
   "name": "python3"
  },
  "language_info": {
   "codemirror_mode": {
    "name": "ipython",
    "version": 3
   },
   "file_extension": ".py",
   "mimetype": "text/x-python",
   "name": "python",
   "nbconvert_exporter": "python",
   "pygments_lexer": "ipython3",
   "version": "3.13.7"
  }
 },
 "nbformat": 4,
 "nbformat_minor": 5
}
