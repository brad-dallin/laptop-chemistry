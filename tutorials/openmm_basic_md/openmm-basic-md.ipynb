{
 "cells": [
  {
   "cell_type": "markdown",
   "metadata": {},
   "source": [
    "# Basic Molecular Dynamics Simulation of Villin N68H in Water with OpenMM\n",
    "\n",
    "## Prerequisites\n",
    "\n",
    "Before running this notebook, ensure you have OpenMM installed:\n",
    "```bash\n",
    "conda create --platform osx-arm64 -n openmm-env python=3.13 conda-forge::openmm\n",
    "conda activate openmm-env\n",
    "```\n",
    "\n",
    "You'll also need a PDB file named `villin-n68h_solv.pdb` in your working directory. This should contain the initial coordinates of your molecular system."
   ]
  },
  {
   "cell_type": "markdown",
   "metadata": {},
   "source": [
    "## Complete Code"
   ]
  },
  {
   "cell_type": "code",
   "execution_count": null,
   "metadata": {},
   "outputs": [
    {
     "name": "stdout",
     "output_type": "stream",
     "text": [
      "#\"Step\",\"Potential Energy (kJ/mole)\",\"Temperature (K)\"\n",
      "1000,-143943.44927291677,291.5752260721319\n",
      "2000,-142703.57036666677,297.5115860040943\n",
      "3000,-142326.38481979177,303.94724375957907\n",
      "4000,-141324.17974166677,305.42412568909475\n",
      "5000,-141733.56450729177,298.5153432952187\n",
      "6000,-141887.39360885427,302.54082609242334\n",
      "7000,-141235.52056197927,305.0134360889396\n",
      "8000,-141433.27739791677,304.12855302510394\n",
      "9000,-142119.27935104177,303.3014125957956\n",
      "10000,-141940.56548385427,300.51936464359557\n"
     ]
    }
   ],
   "source": [
    "# Import necessary modules\n",
    "from sys import stdout\n",
    "from openmm import app\n",
    "from openmm import unit\n",
    "from openmm import LangevinMiddleIntegrator\n",
    "\n",
    "# Load molecular structure\n",
    "pdb = app.PDBFile(\"villin-n68h_solv.pdb\")\n",
    "\n",
    "# Define force field parameters\n",
    "forcefield = app.ForceField(\n",
    "    'amber19-all.xml', 'amber19/tip3pfb.xml'\n",
    ")\n",
    "\n",
    "# Create physical system with simulation parameters\n",
    "system = forcefield.createSystem(\n",
    "    pdb.topology,\n",
    "    nonbondedMethod=app.PME,\n",
    "    nonbondedCutoff=1*unit.nanometer,\n",
    "    constraints=app.HBonds\n",
    ")\n",
    "\n",
    "# Set up Langevin integrator for constant temperature dynamics\n",
    "integrator = LangevinMiddleIntegrator(\n",
    "    300*unit.kelvin, 1/unit.picosecond, 0.004*unit.picoseconds\n",
    ")\n",
    "\n",
    "# Create simulation object and set initial positions\n",
    "simulation = app.Simulation(\n",
    "    pdb.topology, system, integrator\n",
    ")\n",
    "simulation.context.setPositions(pdb.positions)\n",
    "\n",
    "# Minimize energy to remove bad contacts\n",
    "simulation.minimizeEnergy()\n",
    "\n",
    "# Set up trajectory and progress reporting\n",
    "simulation.reporters.append(\n",
    "    app.DCDReporter('villin-n68h_solv_trj.dcd', 1000)\n",
    ")\n",
    "simulation.reporters.append(\n",
    "    app.StateDataReporter(\n",
    "        stdout, 1000,\n",
    "        step=True, \n",
    "        potentialEnergy=True, \n",
    "        temperature=True\n",
    "    )\n",
    ")\n",
    "\n",
    "# Run molecular dynamics simulation\n",
    "simulation.step(10000)"
   ]
  }
 ],
 "metadata": {
  "kernelspec": {
   "display_name": "openmm-env",
   "language": "python",
   "name": "python3"
  },
  "language_info": {
   "codemirror_mode": {
    "name": "ipython",
    "version": 3
   },
   "file_extension": ".py",
   "mimetype": "text/x-python",
   "name": "python",
   "nbconvert_exporter": "python",
   "pygments_lexer": "ipython3",
   "version": "3.13.1"
  }
 },
 "nbformat": 4,
 "nbformat_minor": 2
}
