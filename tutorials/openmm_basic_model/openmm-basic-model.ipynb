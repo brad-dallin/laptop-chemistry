{
 "cells": [
  {
   "cell_type": "markdown",
   "metadata": {},
   "source": [
    "# Build solvated model of Villin N68H with OpenMM\n",
    "\n",
    "## Prerequisites\n",
    "\n",
    "Before running this notebook, ensure you have OpenMM installed:\n",
    "```bash\n",
    "conda create --platform osx-arm64 -n openmm-env python=3.13 conda-forge::openmm\n",
    "conda activate openmm-env\n",
    "```\n",
    "\n",
    "You'll also need a PDB file named `villin-n68h.pdb` in your working directory. This should contain the initial coordinates of your molecular system."
   ]
  },
  {
   "cell_type": "markdown",
   "metadata": {},
   "source": [
    "## Complete Code"
   ]
  },
  {
   "cell_type": "code",
   "execution_count": null,
   "metadata": {},
   "outputs": [],
   "source": [
    "# Import necessary modules\n",
    "from openmm import app\n",
    "from openmm import unit\n",
    "from openmm import VerletIntegrator\n",
    "\n",
    "# Load molecular structure\n",
    "pdb = app.PDBFile(\"villin-n68h.pdb\")\n",
    "\n",
    "# Define force field parameters\n",
    "forcefield = app.ForceField(\n",
    "    \"amber99sb.xml\", \"tip3p.xml\"\n",
    ")\n",
    "\n",
    "# Create physical system with simulation parameters\n",
    "modeller = app.Modeller(\n",
    "    pdb.topology, pdb.positions\n",
    ")\n",
    "\n",
    "# Add hydrogens\n",
    "modeller.addHydrogens(forcefield)\n",
    "\n",
    "# Create box and solvate\n",
    "modeller.addSolvent(\n",
    "    forcefield,\n",
    "    model='tip3p',\n",
    "    padding=1*unit.nanometer\n",
    ")\n",
    "\n",
    "# Create physical system with simulation parameters\n",
    "system = forcefield.createSystem(\n",
    "    modeller.topology, nonbondedMethod=app.PME\n",
    ")\n",
    "\n",
    "# Set up Verlet integrator for NVE ensemble\n",
    "integrator = VerletIntegrator(0.001*unit.picoseconds)\n",
    "simulation = app.Simulation(\n",
    "    modeller.topology, system, integrator\n",
    ")\n",
    "simulation.context.setPositions(modeller.positions)\n",
    "\n",
    "# Minimize energy to remove bad contacts\n",
    "simulation.minimizeEnergy(maxIterations=100)\n",
    "\n",
    "# Save file\n",
    "positions = simulation.context.getState(positions=True).getPositions()\n",
    "app.PDBFile.writeFile(\n",
    "    simulation.topology, positions, open(\"villin-n68h_solv.pdb\", \"w\")\n",
    ")"
   ]
  }
 ],
 "metadata": {
  "kernelspec": {
   "display_name": "openmm-env",
   "language": "python",
   "name": "python3"
  },
  "language_info": {
   "codemirror_mode": {
    "name": "ipython",
    "version": 3
   },
   "file_extension": ".py",
   "mimetype": "text/x-python",
   "name": "python",
   "nbconvert_exporter": "python",
   "pygments_lexer": "ipython3",
   "version": "3.13.1"
  }
 },
 "nbformat": 4,
 "nbformat_minor": 2
}
